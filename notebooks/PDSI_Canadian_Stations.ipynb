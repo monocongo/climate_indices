{
 "cells": [
  {
   "cell_type": "markdown",
   "metadata": {},
   "source": [
    "# Self-calibrated PDSI computation for Canadian stations\n",
    "\n",
    "We will compute the self-calibrated PDSI as well as the associated PDSI, PHDI, PMDI, and Z-Index values for a time series of temperature and precipitation data from a Canadian weather station.  "
   ]
  },
  {
   "cell_type": "code",
   "execution_count": 160,
   "metadata": {},
   "outputs": [],
   "source": [
    "import bokeh.io\n",
    "from bokeh.plotting import figure, show\n",
    "import numpy as np\n",
    "import pandas as pd\n",
    "\n",
    "from climate_indices import indices"
   ]
  },
  {
   "cell_type": "markdown",
   "metadata": {},
   "source": [
    "Read station metadata from a comma-separated file. Columns are station ID, station name, longitude, latitude, and available water capacity."
   ]
  },
  {
   "cell_type": "code",
   "execution_count": 161,
   "metadata": {},
   "outputs": [
    {
     "name": "stdout",
     "output_type": "stream",
     "text": [
      "Station ID: 1012475,  latitide: 48.42,  AWC: 123\n"
     ]
    }
   ],
   "source": [
    "metadata = pd.read_csv(\"data/1012475.metadata\")\n",
    "station_id = metadata[\"Station\"][0]\n",
    "lat = metadata[\"Lat\"][0]\n",
    "awc = metadata[\"AWCmm\"][0]\n",
    "print(f\"Station ID: {station_id},  latitide: {lat},  AWC: {awc}\")"
   ]
  },
  {
   "cell_type": "markdown",
   "metadata": {},
   "source": [
    "Read climatology data from a space-delimited file. Columns are station ID, year, month, day, tmMax, tmin, and precipitation."
   ]
  },
  {
   "cell_type": "code",
   "execution_count": 162,
   "metadata": {
    "scrolled": true
   },
   "outputs": [
    {
     "data": {
      "text/html": [
       "<div>\n",
       "<style scoped>\n",
       "    .dataframe tbody tr th:only-of-type {\n",
       "        vertical-align: middle;\n",
       "    }\n",
       "\n",
       "    .dataframe tbody tr th {\n",
       "        vertical-align: top;\n",
       "    }\n",
       "\n",
       "    .dataframe thead th {\n",
       "        text-align: right;\n",
       "    }\n",
       "</style>\n",
       "<table border=\"1\" class=\"dataframe\">\n",
       "  <thead>\n",
       "    <tr style=\"text-align: right;\">\n",
       "      <th></th>\n",
       "      <th>station_id</th>\n",
       "      <th>year</th>\n",
       "      <th>month</th>\n",
       "      <th>day</th>\n",
       "      <th>tmax</th>\n",
       "      <th>tmin</th>\n",
       "      <th>prcp</th>\n",
       "    </tr>\n",
       "  </thead>\n",
       "  <tbody>\n",
       "    <tr>\n",
       "      <th>0</th>\n",
       "      <td>1012475</td>\n",
       "      <td>1950</td>\n",
       "      <td>1</td>\n",
       "      <td>1</td>\n",
       "      <td>-0.4</td>\n",
       "      <td>-5.4</td>\n",
       "      <td>4.6</td>\n",
       "    </tr>\n",
       "    <tr>\n",
       "      <th>1</th>\n",
       "      <td>1012475</td>\n",
       "      <td>1950</td>\n",
       "      <td>1</td>\n",
       "      <td>2</td>\n",
       "      <td>-5.4</td>\n",
       "      <td>-8.9</td>\n",
       "      <td>3.1</td>\n",
       "    </tr>\n",
       "    <tr>\n",
       "      <th>2</th>\n",
       "      <td>1012475</td>\n",
       "      <td>1950</td>\n",
       "      <td>1</td>\n",
       "      <td>3</td>\n",
       "      <td>-3.6</td>\n",
       "      <td>-9.5</td>\n",
       "      <td>5.9</td>\n",
       "    </tr>\n",
       "    <tr>\n",
       "      <th>3</th>\n",
       "      <td>1012475</td>\n",
       "      <td>1950</td>\n",
       "      <td>1</td>\n",
       "      <td>4</td>\n",
       "      <td>-1.1</td>\n",
       "      <td>-7.0</td>\n",
       "      <td>1.6</td>\n",
       "    </tr>\n",
       "    <tr>\n",
       "      <th>4</th>\n",
       "      <td>1012475</td>\n",
       "      <td>1950</td>\n",
       "      <td>1</td>\n",
       "      <td>5</td>\n",
       "      <td>2.8</td>\n",
       "      <td>-5.5</td>\n",
       "      <td>6.9</td>\n",
       "    </tr>\n",
       "  </tbody>\n",
       "</table>\n",
       "</div>"
      ],
      "text/plain": [
       "   station_id  year  month  day  tmax  tmin  prcp\n",
       "0     1012475  1950      1    1  -0.4  -5.4   4.6\n",
       "1     1012475  1950      1    2  -5.4  -8.9   3.1\n",
       "2     1012475  1950      1    3  -3.6  -9.5   5.9\n",
       "3     1012475  1950      1    4  -1.1  -7.0   1.6\n",
       "4     1012475  1950      1    5   2.8  -5.5   6.9"
      ]
     },
     "execution_count": 162,
     "metadata": {},
     "output_type": "execute_result"
    }
   ],
   "source": [
    "column_names = [\"station_id\", \"year\", \"month\", \"day\", \"tmax\", \"tmin\", \"prcp\"]\n",
    "station_data = pd.read_csv(\"data/1012475.dat\", header=None, names=column_names, delim_whitespace=True)\n",
    "station_data.head()"
   ]
  },
  {
   "cell_type": "markdown",
   "metadata": {},
   "source": [
    "Next we'll convert the year, month, and day columns into a datetime, drop those columns, and set the new datetime as the index."
   ]
  },
  {
   "cell_type": "code",
   "execution_count": 163,
   "metadata": {
    "scrolled": true
   },
   "outputs": [
    {
     "data": {
      "text/html": [
       "<div>\n",
       "<style scoped>\n",
       "    .dataframe tbody tr th:only-of-type {\n",
       "        vertical-align: middle;\n",
       "    }\n",
       "\n",
       "    .dataframe tbody tr th {\n",
       "        vertical-align: top;\n",
       "    }\n",
       "\n",
       "    .dataframe thead th {\n",
       "        text-align: right;\n",
       "    }\n",
       "</style>\n",
       "<table border=\"1\" class=\"dataframe\">\n",
       "  <thead>\n",
       "    <tr style=\"text-align: right;\">\n",
       "      <th></th>\n",
       "      <th>station_id</th>\n",
       "      <th>tmax</th>\n",
       "      <th>tmin</th>\n",
       "      <th>prcp</th>\n",
       "    </tr>\n",
       "    <tr>\n",
       "      <th>date</th>\n",
       "      <th></th>\n",
       "      <th></th>\n",
       "      <th></th>\n",
       "      <th></th>\n",
       "    </tr>\n",
       "  </thead>\n",
       "  <tbody>\n",
       "    <tr>\n",
       "      <th>1950-01-01</th>\n",
       "      <td>1012475</td>\n",
       "      <td>-0.4</td>\n",
       "      <td>-5.4</td>\n",
       "      <td>4.6</td>\n",
       "    </tr>\n",
       "    <tr>\n",
       "      <th>1950-01-02</th>\n",
       "      <td>1012475</td>\n",
       "      <td>-5.4</td>\n",
       "      <td>-8.9</td>\n",
       "      <td>3.1</td>\n",
       "    </tr>\n",
       "    <tr>\n",
       "      <th>1950-01-03</th>\n",
       "      <td>1012475</td>\n",
       "      <td>-3.6</td>\n",
       "      <td>-9.5</td>\n",
       "      <td>5.9</td>\n",
       "    </tr>\n",
       "    <tr>\n",
       "      <th>1950-01-04</th>\n",
       "      <td>1012475</td>\n",
       "      <td>-1.1</td>\n",
       "      <td>-7.0</td>\n",
       "      <td>1.6</td>\n",
       "    </tr>\n",
       "    <tr>\n",
       "      <th>1950-01-05</th>\n",
       "      <td>1012475</td>\n",
       "      <td>2.8</td>\n",
       "      <td>-5.5</td>\n",
       "      <td>6.9</td>\n",
       "    </tr>\n",
       "  </tbody>\n",
       "</table>\n",
       "</div>"
      ],
      "text/plain": [
       "            station_id  tmax  tmin  prcp\n",
       "date                                    \n",
       "1950-01-01     1012475  -0.4  -5.4   4.6\n",
       "1950-01-02     1012475  -5.4  -8.9   3.1\n",
       "1950-01-03     1012475  -3.6  -9.5   5.9\n",
       "1950-01-04     1012475  -1.1  -7.0   1.6\n",
       "1950-01-05     1012475   2.8  -5.5   6.9"
      ]
     },
     "execution_count": 163,
     "metadata": {},
     "output_type": "execute_result"
    }
   ],
   "source": [
    "station_data[\"date\"] = station_data[[\"year\", \"month\", \"day\"]].apply(lambda s : pd.Timestamp(f'{s.year}-{s.month}-{s.day}'), axis = 1)\n",
    "station_data.drop(columns=[\"year\", \"month\", \"day\"], inplace=True)\n",
    "station_data.set_index(\"date\", inplace=True)\n",
    "station_data.head()"
   ]
  },
  {
   "cell_type": "markdown",
   "metadata": {},
   "source": [
    "Get the start and end dates."
   ]
  },
  {
   "cell_type": "code",
   "execution_count": 164,
   "metadata": {},
   "outputs": [
    {
     "name": "stdout",
     "output_type": "stream",
     "text": [
      "Start: 1950\n",
      "End:   2019\n"
     ]
    }
   ],
   "source": [
    "start_year = station_data.index[0].year\n",
    "end_year = station_data.index[-1].year\n",
    "print(f\"Start: {start_year}\\nEnd:   {end_year}\")"
   ]
  },
  {
   "cell_type": "markdown",
   "metadata": {},
   "source": [
    "We'll now take the average of the `tmin` and `tmax` columns to get a daily average temperature Series."
   ]
  },
  {
   "cell_type": "code",
   "execution_count": 165,
   "metadata": {},
   "outputs": [
    {
     "data": {
      "text/plain": [
       "date\n",
       "1950-01-01   -2.90\n",
       "1950-01-02   -7.15\n",
       "1950-01-03   -6.55\n",
       "1950-01-04   -4.05\n",
       "1950-01-05   -1.35\n",
       "dtype: float64"
      ]
     },
     "execution_count": 165,
     "metadata": {},
     "output_type": "execute_result"
    }
   ],
   "source": [
    "tavg_daily = ((station_data[\"tmin\"] + station_data[\"tmax\"]) / 2)\n",
    "tavg_daily.head()"
   ]
  },
  {
   "cell_type": "markdown",
   "metadata": {},
   "source": [
    "We resample the daily average temperature values as monthly, and then get the mean in order to have monthly average temperatures."
   ]
  },
  {
   "cell_type": "code",
   "execution_count": 166,
   "metadata": {},
   "outputs": [
    {
     "name": "stdout",
     "output_type": "stream",
     "text": [
      "tavg: type=<class 'numpy.ndarray'>, shape=(830,), dtype=float64\n"
     ]
    }
   ],
   "source": [
    "# get the monthly average temperatures as a numpy array\n",
    "tavg = tavg_daily.resample('1M').mean().values\n",
    "print(f\"tavg: type={type(tavg)}, shape={tavg.shape}, dtype={tavg.dtype}\")"
   ]
  },
  {
   "cell_type": "markdown",
   "metadata": {},
   "source": [
    "We resample the daily precipitation values as monthly, and then get the sum in order to have monthly total precipitation."
   ]
  },
  {
   "cell_type": "code",
   "execution_count": 167,
   "metadata": {},
   "outputs": [
    {
     "name": "stdout",
     "output_type": "stream",
     "text": [
      "prcp: type=<class 'numpy.ndarray'>, shape=(830,), dtype=float64\n"
     ]
    }
   ],
   "source": [
    "# get the monthly total precipitation as a numpy array\n",
    "prcp = station_data[\"prcp\"].resample('1M').sum().values\n",
    "print(f\"prcp: type={type(prcp)}, shape={prcp.shape}, dtype={prcp.dtype}\")"
   ]
  },
  {
   "cell_type": "markdown",
   "metadata": {},
   "source": [
    "We can now compute PET."
   ]
  },
  {
   "cell_type": "code",
   "execution_count": 168,
   "metadata": {},
   "outputs": [
    {
     "data": {
      "text/plain": [
       "(830,)"
      ]
     },
     "execution_count": 168,
     "metadata": {},
     "output_type": "execute_result"
    }
   ],
   "source": [
    "pet = indices.pet(tavg, lat, start_year)\n",
    "pet.shape"
   ]
  },
  {
   "cell_type": "markdown",
   "metadata": {},
   "source": [
    "We can now compute self-calibrated PDSI, \"traditional\" PDSI, PHDI, PMDI, and Z-Index.\n",
    "\n",
    "Since the precipitation, PET, and AWC values are all in millimeters we'll first multiply these by `0.0393701` in order to convert the units to inches, since this is the unit required for the `climate_indices.indices.scpdsi` function."
   ]
  },
  {
   "cell_type": "code",
   "execution_count": 169,
   "metadata": {},
   "outputs": [],
   "source": [
    "prcp = prcp * 0.0393701\n",
    "pet = pet * 0.0393701\n",
    "awc = awc * 0.0393701\n",
    "scpdsi, pdsi, phdi, pmdi, zindex = indices.scpdsi(prcp, pet, awc, start_year, start_year, end_year)"
   ]
  },
  {
   "cell_type": "markdown",
   "metadata": {},
   "source": [
    "We'll now add all the data into a single Pandas DataFrame."
   ]
  },
  {
   "cell_type": "code",
   "execution_count": 170,
   "metadata": {},
   "outputs": [
    {
     "data": {
      "text/html": [
       "<div>\n",
       "<style scoped>\n",
       "    .dataframe tbody tr th:only-of-type {\n",
       "        vertical-align: middle;\n",
       "    }\n",
       "\n",
       "    .dataframe tbody tr th {\n",
       "        vertical-align: top;\n",
       "    }\n",
       "\n",
       "    .dataframe thead th {\n",
       "        text-align: right;\n",
       "    }\n",
       "</style>\n",
       "<table border=\"1\" class=\"dataframe\">\n",
       "  <thead>\n",
       "    <tr style=\"text-align: right;\">\n",
       "      <th></th>\n",
       "      <th>tavg</th>\n",
       "      <th>prcp</th>\n",
       "      <th>pet</th>\n",
       "      <th>scpdsi</th>\n",
       "      <th>pdsi</th>\n",
       "      <th>phdi</th>\n",
       "      <th>pmdi</th>\n",
       "      <th>zindex</th>\n",
       "    </tr>\n",
       "    <tr>\n",
       "      <th>date</th>\n",
       "      <th></th>\n",
       "      <th></th>\n",
       "      <th></th>\n",
       "      <th></th>\n",
       "      <th></th>\n",
       "      <th></th>\n",
       "      <th></th>\n",
       "      <th></th>\n",
       "    </tr>\n",
       "  </thead>\n",
       "  <tbody>\n",
       "    <tr>\n",
       "      <th>1950-01-31</th>\n",
       "      <td>-3.767742</td>\n",
       "      <td>163.7</td>\n",
       "      <td>0.000000</td>\n",
       "      <td>0.523460</td>\n",
       "      <td>0.528755</td>\n",
       "      <td>0.523460</td>\n",
       "      <td>0.523460</td>\n",
       "      <td>1.570381</td>\n",
       "    </tr>\n",
       "    <tr>\n",
       "      <th>1950-02-28</th>\n",
       "      <td>4.112500</td>\n",
       "      <td>170.5</td>\n",
       "      <td>0.528578</td>\n",
       "      <td>1.788406</td>\n",
       "      <td>1.806495</td>\n",
       "      <td>1.788406</td>\n",
       "      <td>1.788406</td>\n",
       "      <td>3.956587</td>\n",
       "    </tr>\n",
       "    <tr>\n",
       "      <th>1950-03-31</th>\n",
       "      <td>5.340323</td>\n",
       "      <td>172.5</td>\n",
       "      <td>0.914755</td>\n",
       "      <td>3.529464</td>\n",
       "      <td>3.565162</td>\n",
       "      <td>3.529464</td>\n",
       "      <td>3.529464</td>\n",
       "      <td>5.775790</td>\n",
       "    </tr>\n",
       "    <tr>\n",
       "      <th>1950-04-30</th>\n",
       "      <td>7.995000</td>\n",
       "      <td>57.8</td>\n",
       "      <td>1.596089</td>\n",
       "      <td>3.622673</td>\n",
       "      <td>3.659315</td>\n",
       "      <td>3.622673</td>\n",
       "      <td>3.622673</td>\n",
       "      <td>1.370234</td>\n",
       "    </tr>\n",
       "    <tr>\n",
       "      <th>1950-05-31</th>\n",
       "      <td>10.479032</td>\n",
       "      <td>24.1</td>\n",
       "      <td>2.478930</td>\n",
       "      <td>3.280187</td>\n",
       "      <td>3.313364</td>\n",
       "      <td>3.280187</td>\n",
       "      <td>3.257101</td>\n",
       "      <td>0.091947</td>\n",
       "    </tr>\n",
       "  </tbody>\n",
       "</table>\n",
       "</div>"
      ],
      "text/plain": [
       "                 tavg   prcp       pet    scpdsi      pdsi      phdi  \\\n",
       "date                                                                   \n",
       "1950-01-31  -3.767742  163.7  0.000000  0.523460  0.528755  0.523460   \n",
       "1950-02-28   4.112500  170.5  0.528578  1.788406  1.806495  1.788406   \n",
       "1950-03-31   5.340323  172.5  0.914755  3.529464  3.565162  3.529464   \n",
       "1950-04-30   7.995000   57.8  1.596089  3.622673  3.659315  3.622673   \n",
       "1950-05-31  10.479032   24.1  2.478930  3.280187  3.313364  3.280187   \n",
       "\n",
       "                pmdi    zindex  \n",
       "date                            \n",
       "1950-01-31  0.523460  1.570381  \n",
       "1950-02-28  1.788406  3.956587  \n",
       "1950-03-31  3.529464  5.775790  \n",
       "1950-04-30  3.622673  1.370234  \n",
       "1950-05-31  3.257101  0.091947  "
      ]
     },
     "execution_count": 170,
     "metadata": {},
     "output_type": "execute_result"
    }
   ],
   "source": [
    "df = tavg_daily.resample('1M').mean().to_frame(name=\"tavg\")\n",
    "df[\"prcp\"] = station_data[\"prcp\"].resample('1M').sum()\n",
    "df[\"pet\"] = pet\n",
    "df[\"scpdsi\"] = scpdsi\n",
    "df[\"pdsi\"] = pdsi\n",
    "df[\"phdi\"] = phdi\n",
    "df[\"pmdi\"] = pmdi\n",
    "df[\"zindex\"] = zindex\n",
    "df.head()"
   ]
  },
  {
   "cell_type": "markdown",
   "metadata": {},
   "source": [
    "Plot the values we've computed."
   ]
  },
  {
   "cell_type": "code",
   "execution_count": 171,
   "metadata": {},
   "outputs": [
    {
     "data": {
      "text/html": [
       "\n",
       "    <div class=\"bk-root\">\n",
       "        <a href=\"https://bokeh.pydata.org\" target=\"_blank\" class=\"bk-logo bk-logo-small bk-logo-notebook\"></a>\n",
       "        <span id=\"4739\">Loading BokehJS ...</span>\n",
       "    </div>"
      ]
     },
     "metadata": {},
     "output_type": "display_data"
    },
    {
     "data": {
      "application/javascript": [
       "\n",
       "(function(root) {\n",
       "  function now() {\n",
       "    return new Date();\n",
       "  }\n",
       "\n",
       "  var force = true;\n",
       "\n",
       "  if (typeof (root._bokeh_onload_callbacks) === \"undefined\" || force === true) {\n",
       "    root._bokeh_onload_callbacks = [];\n",
       "    root._bokeh_is_loading = undefined;\n",
       "  }\n",
       "\n",
       "  var JS_MIME_TYPE = 'application/javascript';\n",
       "  var HTML_MIME_TYPE = 'text/html';\n",
       "  var EXEC_MIME_TYPE = 'application/vnd.bokehjs_exec.v0+json';\n",
       "  var CLASS_NAME = 'output_bokeh rendered_html';\n",
       "\n",
       "  /**\n",
       "   * Render data to the DOM node\n",
       "   */\n",
       "  function render(props, node) {\n",
       "    var script = document.createElement(\"script\");\n",
       "    node.appendChild(script);\n",
       "  }\n",
       "\n",
       "  /**\n",
       "   * Handle when an output is cleared or removed\n",
       "   */\n",
       "  function handleClearOutput(event, handle) {\n",
       "    var cell = handle.cell;\n",
       "\n",
       "    var id = cell.output_area._bokeh_element_id;\n",
       "    var server_id = cell.output_area._bokeh_server_id;\n",
       "    // Clean up Bokeh references\n",
       "    if (id != null && id in Bokeh.index) {\n",
       "      Bokeh.index[id].model.document.clear();\n",
       "      delete Bokeh.index[id];\n",
       "    }\n",
       "\n",
       "    if (server_id !== undefined) {\n",
       "      // Clean up Bokeh references\n",
       "      var cmd = \"from bokeh.io.state import curstate; print(curstate().uuid_to_server['\" + server_id + \"'].get_sessions()[0].document.roots[0]._id)\";\n",
       "      cell.notebook.kernel.execute(cmd, {\n",
       "        iopub: {\n",
       "          output: function(msg) {\n",
       "            var id = msg.content.text.trim();\n",
       "            if (id in Bokeh.index) {\n",
       "              Bokeh.index[id].model.document.clear();\n",
       "              delete Bokeh.index[id];\n",
       "            }\n",
       "          }\n",
       "        }\n",
       "      });\n",
       "      // Destroy server and session\n",
       "      var cmd = \"import bokeh.io.notebook as ion; ion.destroy_server('\" + server_id + \"')\";\n",
       "      cell.notebook.kernel.execute(cmd);\n",
       "    }\n",
       "  }\n",
       "\n",
       "  /**\n",
       "   * Handle when a new output is added\n",
       "   */\n",
       "  function handleAddOutput(event, handle) {\n",
       "    var output_area = handle.output_area;\n",
       "    var output = handle.output;\n",
       "\n",
       "    // limit handleAddOutput to display_data with EXEC_MIME_TYPE content only\n",
       "    if ((output.output_type != \"display_data\") || (!output.data.hasOwnProperty(EXEC_MIME_TYPE))) {\n",
       "      return\n",
       "    }\n",
       "\n",
       "    var toinsert = output_area.element.find(\".\" + CLASS_NAME.split(' ')[0]);\n",
       "\n",
       "    if (output.metadata[EXEC_MIME_TYPE][\"id\"] !== undefined) {\n",
       "      toinsert[toinsert.length - 1].firstChild.textContent = output.data[JS_MIME_TYPE];\n",
       "      // store reference to embed id on output_area\n",
       "      output_area._bokeh_element_id = output.metadata[EXEC_MIME_TYPE][\"id\"];\n",
       "    }\n",
       "    if (output.metadata[EXEC_MIME_TYPE][\"server_id\"] !== undefined) {\n",
       "      var bk_div = document.createElement(\"div\");\n",
       "      bk_div.innerHTML = output.data[HTML_MIME_TYPE];\n",
       "      var script_attrs = bk_div.children[0].attributes;\n",
       "      for (var i = 0; i < script_attrs.length; i++) {\n",
       "        toinsert[toinsert.length - 1].firstChild.setAttribute(script_attrs[i].name, script_attrs[i].value);\n",
       "      }\n",
       "      // store reference to server id on output_area\n",
       "      output_area._bokeh_server_id = output.metadata[EXEC_MIME_TYPE][\"server_id\"];\n",
       "    }\n",
       "  }\n",
       "\n",
       "  function register_renderer(events, OutputArea) {\n",
       "\n",
       "    function append_mime(data, metadata, element) {\n",
       "      // create a DOM node to render to\n",
       "      var toinsert = this.create_output_subarea(\n",
       "        metadata,\n",
       "        CLASS_NAME,\n",
       "        EXEC_MIME_TYPE\n",
       "      );\n",
       "      this.keyboard_manager.register_events(toinsert);\n",
       "      // Render to node\n",
       "      var props = {data: data, metadata: metadata[EXEC_MIME_TYPE]};\n",
       "      render(props, toinsert[toinsert.length - 1]);\n",
       "      element.append(toinsert);\n",
       "      return toinsert\n",
       "    }\n",
       "\n",
       "    /* Handle when an output is cleared or removed */\n",
       "    events.on('clear_output.CodeCell', handleClearOutput);\n",
       "    events.on('delete.Cell', handleClearOutput);\n",
       "\n",
       "    /* Handle when a new output is added */\n",
       "    events.on('output_added.OutputArea', handleAddOutput);\n",
       "\n",
       "    /**\n",
       "     * Register the mime type and append_mime function with output_area\n",
       "     */\n",
       "    OutputArea.prototype.register_mime_type(EXEC_MIME_TYPE, append_mime, {\n",
       "      /* Is output safe? */\n",
       "      safe: true,\n",
       "      /* Index of renderer in `output_area.display_order` */\n",
       "      index: 0\n",
       "    });\n",
       "  }\n",
       "\n",
       "  // register the mime type if in Jupyter Notebook environment and previously unregistered\n",
       "  if (root.Jupyter !== undefined) {\n",
       "    var events = require('base/js/events');\n",
       "    var OutputArea = require('notebook/js/outputarea').OutputArea;\n",
       "\n",
       "    if (OutputArea.prototype.mime_types().indexOf(EXEC_MIME_TYPE) == -1) {\n",
       "      register_renderer(events, OutputArea);\n",
       "    }\n",
       "  }\n",
       "\n",
       "  \n",
       "  if (typeof (root._bokeh_timeout) === \"undefined\" || force === true) {\n",
       "    root._bokeh_timeout = Date.now() + 5000;\n",
       "    root._bokeh_failed_load = false;\n",
       "  }\n",
       "\n",
       "  var NB_LOAD_WARNING = {'data': {'text/html':\n",
       "     \"<div style='background-color: #fdd'>\\n\"+\n",
       "     \"<p>\\n\"+\n",
       "     \"BokehJS does not appear to have successfully loaded. If loading BokehJS from CDN, this \\n\"+\n",
       "     \"may be due to a slow or bad network connection. Possible fixes:\\n\"+\n",
       "     \"</p>\\n\"+\n",
       "     \"<ul>\\n\"+\n",
       "     \"<li>re-rerun `output_notebook()` to attempt to load from CDN again, or</li>\\n\"+\n",
       "     \"<li>use INLINE resources instead, as so:</li>\\n\"+\n",
       "     \"</ul>\\n\"+\n",
       "     \"<code>\\n\"+\n",
       "     \"from bokeh.resources import INLINE\\n\"+\n",
       "     \"output_notebook(resources=INLINE)\\n\"+\n",
       "     \"</code>\\n\"+\n",
       "     \"</div>\"}};\n",
       "\n",
       "  function display_loaded() {\n",
       "    var el = document.getElementById(\"4739\");\n",
       "    if (el != null) {\n",
       "      el.textContent = \"BokehJS is loading...\";\n",
       "    }\n",
       "    if (root.Bokeh !== undefined) {\n",
       "      if (el != null) {\n",
       "        el.textContent = \"BokehJS \" + root.Bokeh.version + \" successfully loaded.\";\n",
       "      }\n",
       "    } else if (Date.now() < root._bokeh_timeout) {\n",
       "      setTimeout(display_loaded, 100)\n",
       "    }\n",
       "  }\n",
       "\n",
       "\n",
       "  function run_callbacks() {\n",
       "    try {\n",
       "      root._bokeh_onload_callbacks.forEach(function(callback) { callback() });\n",
       "    }\n",
       "    finally {\n",
       "      delete root._bokeh_onload_callbacks\n",
       "    }\n",
       "    console.info(\"Bokeh: all callbacks have finished\");\n",
       "  }\n",
       "\n",
       "  function load_libs(js_urls, callback) {\n",
       "    root._bokeh_onload_callbacks.push(callback);\n",
       "    if (root._bokeh_is_loading > 0) {\n",
       "      console.log(\"Bokeh: BokehJS is being loaded, scheduling callback at\", now());\n",
       "      return null;\n",
       "    }\n",
       "    if (js_urls == null || js_urls.length === 0) {\n",
       "      run_callbacks();\n",
       "      return null;\n",
       "    }\n",
       "    console.log(\"Bokeh: BokehJS not loaded, scheduling load and callback at\", now());\n",
       "    root._bokeh_is_loading = js_urls.length;\n",
       "    for (var i = 0; i < js_urls.length; i++) {\n",
       "      var url = js_urls[i];\n",
       "      var s = document.createElement('script');\n",
       "      s.src = url;\n",
       "      s.async = false;\n",
       "      s.onreadystatechange = s.onload = function() {\n",
       "        root._bokeh_is_loading--;\n",
       "        if (root._bokeh_is_loading === 0) {\n",
       "          console.log(\"Bokeh: all BokehJS libraries loaded\");\n",
       "          run_callbacks()\n",
       "        }\n",
       "      };\n",
       "      s.onerror = function() {\n",
       "        console.warn(\"failed to load library \" + url);\n",
       "      };\n",
       "      console.log(\"Bokeh: injecting script tag for BokehJS library: \", url);\n",
       "      document.getElementsByTagName(\"head\")[0].appendChild(s);\n",
       "    }\n",
       "  };var element = document.getElementById(\"4739\");\n",
       "  if (element == null) {\n",
       "    console.log(\"Bokeh: ERROR: autoload.js configured with elementid '4739' but no matching script tag was found. \")\n",
       "    return false;\n",
       "  }\n",
       "\n",
       "  var js_urls = [\"https://cdn.pydata.org/bokeh/release/bokeh-1.0.4.min.js\", \"https://cdn.pydata.org/bokeh/release/bokeh-widgets-1.0.4.min.js\", \"https://cdn.pydata.org/bokeh/release/bokeh-tables-1.0.4.min.js\", \"https://cdn.pydata.org/bokeh/release/bokeh-gl-1.0.4.min.js\"];\n",
       "\n",
       "  var inline_js = [\n",
       "    function(Bokeh) {\n",
       "      Bokeh.set_log_level(\"info\");\n",
       "    },\n",
       "    \n",
       "    function(Bokeh) {\n",
       "      \n",
       "    },\n",
       "    function(Bokeh) {\n",
       "      console.log(\"Bokeh: injecting CSS: https://cdn.pydata.org/bokeh/release/bokeh-1.0.4.min.css\");\n",
       "      Bokeh.embed.inject_css(\"https://cdn.pydata.org/bokeh/release/bokeh-1.0.4.min.css\");\n",
       "      console.log(\"Bokeh: injecting CSS: https://cdn.pydata.org/bokeh/release/bokeh-widgets-1.0.4.min.css\");\n",
       "      Bokeh.embed.inject_css(\"https://cdn.pydata.org/bokeh/release/bokeh-widgets-1.0.4.min.css\");\n",
       "      console.log(\"Bokeh: injecting CSS: https://cdn.pydata.org/bokeh/release/bokeh-tables-1.0.4.min.css\");\n",
       "      Bokeh.embed.inject_css(\"https://cdn.pydata.org/bokeh/release/bokeh-tables-1.0.4.min.css\");\n",
       "    }\n",
       "  ];\n",
       "\n",
       "  function run_inline_js() {\n",
       "    \n",
       "    if ((root.Bokeh !== undefined) || (force === true)) {\n",
       "      for (var i = 0; i < inline_js.length; i++) {\n",
       "        inline_js[i].call(root, root.Bokeh);\n",
       "      }if (force === true) {\n",
       "        display_loaded();\n",
       "      }} else if (Date.now() < root._bokeh_timeout) {\n",
       "      setTimeout(run_inline_js, 100);\n",
       "    } else if (!root._bokeh_failed_load) {\n",
       "      console.log(\"Bokeh: BokehJS failed to load within specified timeout.\");\n",
       "      root._bokeh_failed_load = true;\n",
       "    } else if (force !== true) {\n",
       "      var cell = $(document.getElementById(\"4739\")).parents('.cell').data().cell;\n",
       "      cell.output_area.append_execute_result(NB_LOAD_WARNING)\n",
       "    }\n",
       "\n",
       "  }\n",
       "\n",
       "  if (root._bokeh_is_loading === 0) {\n",
       "    console.log(\"Bokeh: BokehJS loaded, going straight to plotting\");\n",
       "    run_inline_js();\n",
       "  } else {\n",
       "    load_libs(js_urls, function() {\n",
       "      console.log(\"Bokeh: BokehJS plotting callback run at\", now());\n",
       "      run_inline_js();\n",
       "    });\n",
       "  }\n",
       "}(window));"
      ],
      "application/vnd.bokehjs_load.v0+json": "\n(function(root) {\n  function now() {\n    return new Date();\n  }\n\n  var force = true;\n\n  if (typeof (root._bokeh_onload_callbacks) === \"undefined\" || force === true) {\n    root._bokeh_onload_callbacks = [];\n    root._bokeh_is_loading = undefined;\n  }\n\n  \n\n  \n  if (typeof (root._bokeh_timeout) === \"undefined\" || force === true) {\n    root._bokeh_timeout = Date.now() + 5000;\n    root._bokeh_failed_load = false;\n  }\n\n  var NB_LOAD_WARNING = {'data': {'text/html':\n     \"<div style='background-color: #fdd'>\\n\"+\n     \"<p>\\n\"+\n     \"BokehJS does not appear to have successfully loaded. If loading BokehJS from CDN, this \\n\"+\n     \"may be due to a slow or bad network connection. Possible fixes:\\n\"+\n     \"</p>\\n\"+\n     \"<ul>\\n\"+\n     \"<li>re-rerun `output_notebook()` to attempt to load from CDN again, or</li>\\n\"+\n     \"<li>use INLINE resources instead, as so:</li>\\n\"+\n     \"</ul>\\n\"+\n     \"<code>\\n\"+\n     \"from bokeh.resources import INLINE\\n\"+\n     \"output_notebook(resources=INLINE)\\n\"+\n     \"</code>\\n\"+\n     \"</div>\"}};\n\n  function display_loaded() {\n    var el = document.getElementById(\"4739\");\n    if (el != null) {\n      el.textContent = \"BokehJS is loading...\";\n    }\n    if (root.Bokeh !== undefined) {\n      if (el != null) {\n        el.textContent = \"BokehJS \" + root.Bokeh.version + \" successfully loaded.\";\n      }\n    } else if (Date.now() < root._bokeh_timeout) {\n      setTimeout(display_loaded, 100)\n    }\n  }\n\n\n  function run_callbacks() {\n    try {\n      root._bokeh_onload_callbacks.forEach(function(callback) { callback() });\n    }\n    finally {\n      delete root._bokeh_onload_callbacks\n    }\n    console.info(\"Bokeh: all callbacks have finished\");\n  }\n\n  function load_libs(js_urls, callback) {\n    root._bokeh_onload_callbacks.push(callback);\n    if (root._bokeh_is_loading > 0) {\n      console.log(\"Bokeh: BokehJS is being loaded, scheduling callback at\", now());\n      return null;\n    }\n    if (js_urls == null || js_urls.length === 0) {\n      run_callbacks();\n      return null;\n    }\n    console.log(\"Bokeh: BokehJS not loaded, scheduling load and callback at\", now());\n    root._bokeh_is_loading = js_urls.length;\n    for (var i = 0; i < js_urls.length; i++) {\n      var url = js_urls[i];\n      var s = document.createElement('script');\n      s.src = url;\n      s.async = false;\n      s.onreadystatechange = s.onload = function() {\n        root._bokeh_is_loading--;\n        if (root._bokeh_is_loading === 0) {\n          console.log(\"Bokeh: all BokehJS libraries loaded\");\n          run_callbacks()\n        }\n      };\n      s.onerror = function() {\n        console.warn(\"failed to load library \" + url);\n      };\n      console.log(\"Bokeh: injecting script tag for BokehJS library: \", url);\n      document.getElementsByTagName(\"head\")[0].appendChild(s);\n    }\n  };var element = document.getElementById(\"4739\");\n  if (element == null) {\n    console.log(\"Bokeh: ERROR: autoload.js configured with elementid '4739' but no matching script tag was found. \")\n    return false;\n  }\n\n  var js_urls = [\"https://cdn.pydata.org/bokeh/release/bokeh-1.0.4.min.js\", \"https://cdn.pydata.org/bokeh/release/bokeh-widgets-1.0.4.min.js\", \"https://cdn.pydata.org/bokeh/release/bokeh-tables-1.0.4.min.js\", \"https://cdn.pydata.org/bokeh/release/bokeh-gl-1.0.4.min.js\"];\n\n  var inline_js = [\n    function(Bokeh) {\n      Bokeh.set_log_level(\"info\");\n    },\n    \n    function(Bokeh) {\n      \n    },\n    function(Bokeh) {\n      console.log(\"Bokeh: injecting CSS: https://cdn.pydata.org/bokeh/release/bokeh-1.0.4.min.css\");\n      Bokeh.embed.inject_css(\"https://cdn.pydata.org/bokeh/release/bokeh-1.0.4.min.css\");\n      console.log(\"Bokeh: injecting CSS: https://cdn.pydata.org/bokeh/release/bokeh-widgets-1.0.4.min.css\");\n      Bokeh.embed.inject_css(\"https://cdn.pydata.org/bokeh/release/bokeh-widgets-1.0.4.min.css\");\n      console.log(\"Bokeh: injecting CSS: https://cdn.pydata.org/bokeh/release/bokeh-tables-1.0.4.min.css\");\n      Bokeh.embed.inject_css(\"https://cdn.pydata.org/bokeh/release/bokeh-tables-1.0.4.min.css\");\n    }\n  ];\n\n  function run_inline_js() {\n    \n    if ((root.Bokeh !== undefined) || (force === true)) {\n      for (var i = 0; i < inline_js.length; i++) {\n        inline_js[i].call(root, root.Bokeh);\n      }if (force === true) {\n        display_loaded();\n      }} else if (Date.now() < root._bokeh_timeout) {\n      setTimeout(run_inline_js, 100);\n    } else if (!root._bokeh_failed_load) {\n      console.log(\"Bokeh: BokehJS failed to load within specified timeout.\");\n      root._bokeh_failed_load = true;\n    } else if (force !== true) {\n      var cell = $(document.getElementById(\"4739\")).parents('.cell').data().cell;\n      cell.output_area.append_execute_result(NB_LOAD_WARNING)\n    }\n\n  }\n\n  if (root._bokeh_is_loading === 0) {\n    console.log(\"Bokeh: BokehJS loaded, going straight to plotting\");\n    run_inline_js();\n  } else {\n    load_libs(js_urls, function() {\n      console.log(\"Bokeh: BokehJS plotting callback run at\", now());\n      run_inline_js();\n    });\n  }\n}(window));"
     },
     "metadata": {},
     "output_type": "display_data"
    },
    {
     "data": {
      "text/html": [
       "\n",
       "\n",
       "\n",
       "\n",
       "\n",
       "\n",
       "  <div class=\"bk-root\" id=\"89ca8fa7-0e44-4b30-86ca-60db3fa0c4e8\" data-root-id=\"4741\"></div>\n"
      ]
     },
     "metadata": {},
     "output_type": "display_data"
    },
    {
     "data": {
      "application/javascript": [
       "(function(root) {\n",
       "  function embed_document(root) {\n",
       "    \n",
       "  var docs_json = {\"82ba913c-894f-45a4-a117-cea0ca509824\":{\"roots\":{\"references\":[{\"attributes\":{\"below\":[{\"id\":\"4751\",\"type\":\"DatetimeAxis\"}],\"left\":[{\"id\":\"4756\",\"type\":\"LinearAxis\"}],\"plot_height\":350,\"plot_width\":800,\"renderers\":[{\"id\":\"4751\",\"type\":\"DatetimeAxis\"},{\"id\":\"4755\",\"type\":\"Grid\"},{\"id\":\"4756\",\"type\":\"LinearAxis\"},{\"id\":\"4760\",\"type\":\"Grid\"},{\"id\":\"4769\",\"type\":\"BoxAnnotation\"},{\"id\":\"4779\",\"type\":\"GlyphRenderer\"}],\"title\":{\"id\":\"4740\",\"type\":\"Title\"},\"toolbar\":{\"id\":\"4767\",\"type\":\"Toolbar\"},\"x_range\":{\"id\":\"4743\",\"type\":\"DataRange1d\"},\"x_scale\":{\"id\":\"4747\",\"type\":\"LinearScale\"},\"y_range\":{\"id\":\"4745\",\"type\":\"DataRange1d\"},\"y_scale\":{\"id\":\"4749\",\"type\":\"LinearScale\"}},\"id\":\"4741\",\"subtype\":\"Figure\",\"type\":\"Plot\"},{\"attributes\":{\"axis_label\":\"Time\",\"formatter\":{\"id\":\"5022\",\"type\":\"DatetimeTickFormatter\"},\"plot\":{\"id\":\"4741\",\"subtype\":\"Figure\",\"type\":\"Plot\"},\"ticker\":{\"id\":\"4752\",\"type\":\"DatetimeTicker\"}},\"id\":\"4751\",\"type\":\"DatetimeAxis\"},{\"attributes\":{},\"id\":\"5037\",\"type\":\"YearsTicker\"},{\"attributes\":{\"plot\":null,\"text\":\"Self-calibrated PDSI\"},\"id\":\"4740\",\"type\":\"Title\"},{\"attributes\":{\"axis_label\":\"Value\",\"formatter\":{\"id\":\"5024\",\"type\":\"BasicTickFormatter\"},\"plot\":{\"id\":\"4741\",\"subtype\":\"Figure\",\"type\":\"Plot\"},\"ticker\":{\"id\":\"4757\",\"type\":\"BasicTicker\"}},\"id\":\"4756\",\"type\":\"LinearAxis\"},{\"attributes\":{\"mantissas\":[1,2,5],\"max_interval\":500.0,\"num_minor_ticks\":0},\"id\":\"5026\",\"type\":\"AdaptiveTicker\"},{\"attributes\":{\"callback\":null},\"id\":\"4743\",\"type\":\"DataRange1d\"},{\"attributes\":{},\"id\":\"4765\",\"type\":\"ResetTool\"},{\"attributes\":{\"grid_line_color\":{\"value\":null},\"plot\":{\"id\":\"4741\",\"subtype\":\"Figure\",\"type\":\"Plot\"},\"ticker\":{\"id\":\"4752\",\"type\":\"DatetimeTicker\"}},\"id\":\"4755\",\"type\":\"Grid\"},{\"attributes\":{\"days\":[1,15]},\"id\":\"5032\",\"type\":\"DaysTicker\"},{\"attributes\":{\"days\":[1,4,7,10,13,16,19,22,25,28]},\"id\":\"5030\",\"type\":\"DaysTicker\"},{\"attributes\":{\"callback\":null,\"data\":{\"x\":{\"__ndarray__\":\"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\",\"dtype\":\"float64\",\"shape\":[830]},\"y\":{\"__ndarray__\":\"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\",\"dtype\":\"float64\",\"shape\":[830]}},\"selected\":{\"id\":\"5038\",\"type\":\"Selection\"},\"selection_policy\":{\"id\":\"5039\",\"type\":\"UnionRenderers\"}},\"id\":\"4776\",\"type\":\"ColumnDataSource\"},{\"attributes\":{},\"id\":\"5039\",\"type\":\"UnionRenderers\"},{\"attributes\":{},\"id\":\"4762\",\"type\":\"WheelZoomTool\"},{\"attributes\":{},\"id\":\"4749\",\"type\":\"LinearScale\"},{\"attributes\":{\"overlay\":{\"id\":\"4769\",\"type\":\"BoxAnnotation\"}},\"id\":\"4763\",\"type\":\"BoxZoomTool\"},{\"attributes\":{},\"id\":\"5024\",\"type\":\"BasicTickFormatter\"},{\"attributes\":{\"days\":[1,8,15,22]},\"id\":\"5031\",\"type\":\"DaysTicker\"},{\"attributes\":{\"line_color\":\"#1f77b4\",\"x\":{\"field\":\"x\"},\"y\":{\"field\":\"y\"}},\"id\":\"4777\",\"type\":\"Line\"},{\"attributes\":{\"source\":{\"id\":\"4776\",\"type\":\"ColumnDataSource\"}},\"id\":\"4780\",\"type\":\"CDSView\"},{\"attributes\":{\"line_alpha\":0.1,\"line_color\":\"#1f77b4\",\"x\":{\"field\":\"x\"},\"y\":{\"field\":\"y\"}},\"id\":\"4778\",\"type\":\"Line\"},{\"attributes\":{\"num_minor_ticks\":5,\"tickers\":[{\"id\":\"5026\",\"type\":\"AdaptiveTicker\"},{\"id\":\"5027\",\"type\":\"AdaptiveTicker\"},{\"id\":\"5028\",\"type\":\"AdaptiveTicker\"},{\"id\":\"5029\",\"type\":\"DaysTicker\"},{\"id\":\"5030\",\"type\":\"DaysTicker\"},{\"id\":\"5031\",\"type\":\"DaysTicker\"},{\"id\":\"5032\",\"type\":\"DaysTicker\"},{\"id\":\"5033\",\"type\":\"MonthsTicker\"},{\"id\":\"5034\",\"type\":\"MonthsTicker\"},{\"id\":\"5035\",\"type\":\"MonthsTicker\"},{\"id\":\"5036\",\"type\":\"MonthsTicker\"},{\"id\":\"5037\",\"type\":\"YearsTicker\"}]},\"id\":\"4752\",\"type\":\"DatetimeTicker\"},{\"attributes\":{\"data_source\":{\"id\":\"4776\",\"type\":\"ColumnDataSource\"},\"glyph\":{\"id\":\"4777\",\"type\":\"Line\"},\"hover_glyph\":null,\"muted_glyph\":null,\"nonselection_glyph\":{\"id\":\"4778\",\"type\":\"Line\"},\"selection_glyph\":null,\"view\":{\"id\":\"4780\",\"type\":\"CDSView\"}},\"id\":\"4779\",\"type\":\"GlyphRenderer\"},{\"attributes\":{\"base\":24,\"mantissas\":[1,2,4,6,8,12],\"max_interval\":43200000.0,\"min_interval\":3600000.0,\"num_minor_ticks\":0},\"id\":\"5028\",\"type\":\"AdaptiveTicker\"},{\"attributes\":{\"bottom_units\":\"screen\",\"fill_alpha\":{\"value\":0.5},\"fill_color\":{\"value\":\"lightgrey\"},\"left_units\":\"screen\",\"level\":\"overlay\",\"line_alpha\":{\"value\":1.0},\"line_color\":{\"value\":\"black\"},\"line_dash\":[4,4],\"line_width\":{\"value\":2},\"plot\":null,\"render_mode\":\"css\",\"right_units\":\"screen\",\"top_units\":\"screen\"},\"id\":\"4769\",\"type\":\"BoxAnnotation\"},{\"attributes\":{\"active_drag\":\"auto\",\"active_inspect\":\"auto\",\"active_multi\":null,\"active_scroll\":\"auto\",\"active_tap\":\"auto\",\"tools\":[{\"id\":\"4761\",\"type\":\"PanTool\"},{\"id\":\"4762\",\"type\":\"WheelZoomTool\"},{\"id\":\"4763\",\"type\":\"BoxZoomTool\"},{\"id\":\"4764\",\"type\":\"SaveTool\"},{\"id\":\"4765\",\"type\":\"ResetTool\"},{\"id\":\"4766\",\"type\":\"HelpTool\"}]},\"id\":\"4767\",\"type\":\"Toolbar\"},{\"attributes\":{\"callback\":null},\"id\":\"4745\",\"type\":\"DataRange1d\"},{\"attributes\":{\"months\":[0,6]},\"id\":\"5036\",\"type\":\"MonthsTicker\"},{\"attributes\":{},\"id\":\"4757\",\"type\":\"BasicTicker\"},{\"attributes\":{\"months\":[0,1,2,3,4,5,6,7,8,9,10,11]},\"id\":\"5033\",\"type\":\"MonthsTicker\"},{\"attributes\":{\"months\":[0,2,4,6,8,10]},\"id\":\"5034\",\"type\":\"MonthsTicker\"},{\"attributes\":{},\"id\":\"4766\",\"type\":\"HelpTool\"},{\"attributes\":{},\"id\":\"4764\",\"type\":\"SaveTool\"},{\"attributes\":{},\"id\":\"4747\",\"type\":\"LinearScale\"},{\"attributes\":{\"base\":60,\"mantissas\":[1,2,5,10,15,20,30],\"max_interval\":1800000.0,\"min_interval\":1000.0,\"num_minor_ticks\":0},\"id\":\"5027\",\"type\":\"AdaptiveTicker\"},{\"attributes\":{},\"id\":\"5022\",\"type\":\"DatetimeTickFormatter\"},{\"attributes\":{\"days\":[1,2,3,4,5,6,7,8,9,10,11,12,13,14,15,16,17,18,19,20,21,22,23,24,25,26,27,28,29,30,31]},\"id\":\"5029\",\"type\":\"DaysTicker\"},{\"attributes\":{\"months\":[0,4,8]},\"id\":\"5035\",\"type\":\"MonthsTicker\"},{\"attributes\":{\"dimension\":1,\"grid_line_alpha\":{\"value\":0.5},\"plot\":{\"id\":\"4741\",\"subtype\":\"Figure\",\"type\":\"Plot\"},\"ticker\":{\"id\":\"4757\",\"type\":\"BasicTicker\"}},\"id\":\"4760\",\"type\":\"Grid\"},{\"attributes\":{},\"id\":\"4761\",\"type\":\"PanTool\"},{\"attributes\":{},\"id\":\"5038\",\"type\":\"Selection\"}],\"root_ids\":[\"4741\"]},\"title\":\"Bokeh Application\",\"version\":\"1.0.4\"}};\n",
       "  var render_items = [{\"docid\":\"82ba913c-894f-45a4-a117-cea0ca509824\",\"roots\":{\"4741\":\"89ca8fa7-0e44-4b30-86ca-60db3fa0c4e8\"}}];\n",
       "  root.Bokeh.embed.embed_items_notebook(docs_json, render_items);\n",
       "\n",
       "  }\n",
       "  if (root.Bokeh !== undefined) {\n",
       "    embed_document(root);\n",
       "  } else {\n",
       "    var attempts = 0;\n",
       "    var timer = setInterval(function(root) {\n",
       "      if (root.Bokeh !== undefined) {\n",
       "        embed_document(root);\n",
       "        clearInterval(timer);\n",
       "      }\n",
       "      attempts++;\n",
       "      if (attempts > 100) {\n",
       "        console.log(\"Bokeh: ERROR: Unable to run BokehJS code because BokehJS library is missing\");\n",
       "        clearInterval(timer);\n",
       "      }\n",
       "    }, 10, root)\n",
       "  }\n",
       "})(window);"
      ],
      "application/vnd.bokehjs_exec.v0+json": ""
     },
     "metadata": {
      "application/vnd.bokehjs_exec.v0+json": {
       "id": "4741"
      }
     },
     "output_type": "display_data"
    },
    {
     "data": {
      "text/html": [
       "\n",
       "\n",
       "\n",
       "\n",
       "\n",
       "\n",
       "  <div class=\"bk-root\" id=\"aa528eb2-905b-4b03-97a2-0691b0b3e113\" data-root-id=\"5162\"></div>\n"
      ]
     },
     "metadata": {},
     "output_type": "display_data"
    },
    {
     "data": {
      "application/javascript": [
       "(function(root) {\n",
       "  function embed_document(root) {\n",
       "    \n",
       "  var docs_json = {\"a21299ab-4848-4c00-a651-165a88b94e6c\":{\"roots\":{\"references\":[{\"attributes\":{\"below\":[{\"id\":\"5172\",\"type\":\"DatetimeAxis\"}],\"left\":[{\"id\":\"5177\",\"type\":\"LinearAxis\"}],\"plot_height\":350,\"plot_width\":800,\"renderers\":[{\"id\":\"5172\",\"type\":\"DatetimeAxis\"},{\"id\":\"5176\",\"type\":\"Grid\"},{\"id\":\"5177\",\"type\":\"LinearAxis\"},{\"id\":\"5181\",\"type\":\"Grid\"},{\"id\":\"5190\",\"type\":\"BoxAnnotation\"},{\"id\":\"5200\",\"type\":\"GlyphRenderer\"}],\"title\":{\"id\":\"5161\",\"type\":\"Title\"},\"toolbar\":{\"id\":\"5188\",\"type\":\"Toolbar\"},\"x_range\":{\"id\":\"5164\",\"type\":\"DataRange1d\"},\"x_scale\":{\"id\":\"5168\",\"type\":\"LinearScale\"},\"y_range\":{\"id\":\"5166\",\"type\":\"DataRange1d\"},\"y_scale\":{\"id\":\"5170\",\"type\":\"LinearScale\"}},\"id\":\"5162\",\"subtype\":\"Figure\",\"type\":\"Plot\"},{\"attributes\":{\"data_source\":{\"id\":\"5197\",\"type\":\"ColumnDataSource\"},\"glyph\":{\"id\":\"5198\",\"type\":\"Line\"},\"hover_glyph\":null,\"muted_glyph\":null,\"nonselection_glyph\":{\"id\":\"5199\",\"type\":\"Line\"},\"selection_glyph\":null,\"view\":{\"id\":\"5201\",\"type\":\"CDSView\"}},\"id\":\"5200\",\"type\":\"GlyphRenderer\"},{\"attributes\":{\"grid_line_color\":{\"value\":null},\"plot\":{\"id\":\"5162\",\"subtype\":\"Figure\",\"type\":\"Plot\"},\"ticker\":{\"id\":\"5173\",\"type\":\"DatetimeTicker\"}},\"id\":\"5176\",\"type\":\"Grid\"},{\"attributes\":{},\"id\":\"5478\",\"type\":\"YearsTicker\"},{\"attributes\":{},\"id\":\"5479\",\"type\":\"Selection\"},{\"attributes\":{},\"id\":\"5183\",\"type\":\"WheelZoomTool\"},{\"attributes\":{\"months\":[0,6]},\"id\":\"5477\",\"type\":\"MonthsTicker\"},{\"attributes\":{},\"id\":\"5465\",\"type\":\"BasicTickFormatter\"},{\"attributes\":{},\"id\":\"5182\",\"type\":\"PanTool\"},{\"attributes\":{\"overlay\":{\"id\":\"5190\",\"type\":\"BoxAnnotation\"}},\"id\":\"5184\",\"type\":\"BoxZoomTool\"},{\"attributes\":{},\"id\":\"5463\",\"type\":\"DatetimeTickFormatter\"},{\"attributes\":{\"axis_label\":\"Time\",\"formatter\":{\"id\":\"5463\",\"type\":\"DatetimeTickFormatter\"},\"plot\":{\"id\":\"5162\",\"subtype\":\"Figure\",\"type\":\"Plot\"},\"ticker\":{\"id\":\"5173\",\"type\":\"DatetimeTicker\"}},\"id\":\"5172\",\"type\":\"DatetimeAxis\"},{\"attributes\":{\"dimension\":1,\"grid_line_alpha\":{\"value\":0.5},\"plot\":{\"id\":\"5162\",\"subtype\":\"Figure\",\"type\":\"Plot\"},\"ticker\":{\"id\":\"5178\",\"type\":\"BasicTicker\"}},\"id\":\"5181\",\"type\":\"Grid\"},{\"attributes\":{\"days\":[1,2,3,4,5,6,7,8,9,10,11,12,13,14,15,16,17,18,19,20,21,22,23,24,25,26,27,28,29,30,31]},\"id\":\"5470\",\"type\":\"DaysTicker\"},{\"attributes\":{\"num_minor_ticks\":5,\"tickers\":[{\"id\":\"5467\",\"type\":\"AdaptiveTicker\"},{\"id\":\"5468\",\"type\":\"AdaptiveTicker\"},{\"id\":\"5469\",\"type\":\"AdaptiveTicker\"},{\"id\":\"5470\",\"type\":\"DaysTicker\"},{\"id\":\"5471\",\"type\":\"DaysTicker\"},{\"id\":\"5472\",\"type\":\"DaysTicker\"},{\"id\":\"5473\",\"type\":\"DaysTicker\"},{\"id\":\"5474\",\"type\":\"MonthsTicker\"},{\"id\":\"5475\",\"type\":\"MonthsTicker\"},{\"id\":\"5476\",\"type\":\"MonthsTicker\"},{\"id\":\"5477\",\"type\":\"MonthsTicker\"},{\"id\":\"5478\",\"type\":\"YearsTicker\"}]},\"id\":\"5173\",\"type\":\"DatetimeTicker\"},{\"attributes\":{},\"id\":\"5185\",\"type\":\"SaveTool\"},{\"attributes\":{\"months\":[0,4,8]},\"id\":\"5476\",\"type\":\"MonthsTicker\"},{\"attributes\":{\"months\":[0,1,2,3,4,5,6,7,8,9,10,11]},\"id\":\"5474\",\"type\":\"MonthsTicker\"},{\"attributes\":{\"plot\":null,\"text\":\"Traditional PDSI\"},\"id\":\"5161\",\"type\":\"Title\"},{\"attributes\":{\"months\":[0,2,4,6,8,10]},\"id\":\"5475\",\"type\":\"MonthsTicker\"},{\"attributes\":{\"axis_label\":\"Value\",\"formatter\":{\"id\":\"5465\",\"type\":\"BasicTickFormatter\"},\"plot\":{\"id\":\"5162\",\"subtype\":\"Figure\",\"type\":\"Plot\"},\"ticker\":{\"id\":\"5178\",\"type\":\"BasicTicker\"}},\"id\":\"5177\",\"type\":\"LinearAxis\"},{\"attributes\":{\"days\":[1,15]},\"id\":\"5473\",\"type\":\"DaysTicker\"},{\"attributes\":{\"line_alpha\":0.1,\"line_color\":\"#1f77b4\",\"x\":{\"field\":\"x\"},\"y\":{\"field\":\"y\"}},\"id\":\"5199\",\"type\":\"Line\"},{\"attributes\":{},\"id\":\"5187\",\"type\":\"HelpTool\"},{\"attributes\":{},\"id\":\"5170\",\"type\":\"LinearScale\"},{\"attributes\":{\"bottom_units\":\"screen\",\"fill_alpha\":{\"value\":0.5},\"fill_color\":{\"value\":\"lightgrey\"},\"left_units\":\"screen\",\"level\":\"overlay\",\"line_alpha\":{\"value\":1.0},\"line_color\":{\"value\":\"black\"},\"line_dash\":[4,4],\"line_width\":{\"value\":2},\"plot\":null,\"render_mode\":\"css\",\"right_units\":\"screen\",\"top_units\":\"screen\"},\"id\":\"5190\",\"type\":\"BoxAnnotation\"},{\"attributes\":{\"callback\":null},\"id\":\"5164\",\"type\":\"DataRange1d\"},{\"attributes\":{\"base\":24,\"mantissas\":[1,2,4,6,8,12],\"max_interval\":43200000.0,\"min_interval\":3600000.0,\"num_minor_ticks\":0},\"id\":\"5469\",\"type\":\"AdaptiveTicker\"},{\"attributes\":{},\"id\":\"5186\",\"type\":\"ResetTool\"},{\"attributes\":{\"mantissas\":[1,2,5],\"max_interval\":500.0,\"num_minor_ticks\":0},\"id\":\"5467\",\"type\":\"AdaptiveTicker\"},{\"attributes\":{},\"id\":\"5480\",\"type\":\"UnionRenderers\"},{\"attributes\":{\"days\":[1,8,15,22]},\"id\":\"5472\",\"type\":\"DaysTicker\"},{\"attributes\":{\"active_drag\":\"auto\",\"active_inspect\":\"auto\",\"active_multi\":null,\"active_scroll\":\"auto\",\"active_tap\":\"auto\",\"tools\":[{\"id\":\"5182\",\"type\":\"PanTool\"},{\"id\":\"5183\",\"type\":\"WheelZoomTool\"},{\"id\":\"5184\",\"type\":\"BoxZoomTool\"},{\"id\":\"5185\",\"type\":\"SaveTool\"},{\"id\":\"5186\",\"type\":\"ResetTool\"},{\"id\":\"5187\",\"type\":\"HelpTool\"}]},\"id\":\"5188\",\"type\":\"Toolbar\"},{\"attributes\":{\"callback\":null,\"data\":{\"x\":{\"__ndarray__\":\"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\",\"dtype\":\"float64\",\"shape\":[830]},\"y\":{\"__ndarray__\":\"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\",\"dtype\":\"float64\",\"shape\":[830]}},\"selected\":{\"id\":\"5479\",\"type\":\"Selection\"},\"selection_policy\":{\"id\":\"5480\",\"type\":\"UnionRenderers\"}},\"id\":\"5197\",\"type\":\"ColumnDataSource\"},{\"attributes\":{\"base\":60,\"mantissas\":[1,2,5,10,15,20,30],\"max_interval\":1800000.0,\"min_interval\":1000.0,\"num_minor_ticks\":0},\"id\":\"5468\",\"type\":\"AdaptiveTicker\"},{\"attributes\":{},\"id\":\"5168\",\"type\":\"LinearScale\"},{\"attributes\":{\"source\":{\"id\":\"5197\",\"type\":\"ColumnDataSource\"}},\"id\":\"5201\",\"type\":\"CDSView\"},{\"attributes\":{},\"id\":\"5178\",\"type\":\"BasicTicker\"},{\"attributes\":{\"days\":[1,4,7,10,13,16,19,22,25,28]},\"id\":\"5471\",\"type\":\"DaysTicker\"},{\"attributes\":{\"callback\":null},\"id\":\"5166\",\"type\":\"DataRange1d\"},{\"attributes\":{\"line_color\":\"#1f77b4\",\"x\":{\"field\":\"x\"},\"y\":{\"field\":\"y\"}},\"id\":\"5198\",\"type\":\"Line\"}],\"root_ids\":[\"5162\"]},\"title\":\"Bokeh Application\",\"version\":\"1.0.4\"}};\n",
       "  var render_items = [{\"docid\":\"a21299ab-4848-4c00-a651-165a88b94e6c\",\"roots\":{\"5162\":\"aa528eb2-905b-4b03-97a2-0691b0b3e113\"}}];\n",
       "  root.Bokeh.embed.embed_items_notebook(docs_json, render_items);\n",
       "\n",
       "  }\n",
       "  if (root.Bokeh !== undefined) {\n",
       "    embed_document(root);\n",
       "  } else {\n",
       "    var attempts = 0;\n",
       "    var timer = setInterval(function(root) {\n",
       "      if (root.Bokeh !== undefined) {\n",
       "        embed_document(root);\n",
       "        clearInterval(timer);\n",
       "      }\n",
       "      attempts++;\n",
       "      if (attempts > 100) {\n",
       "        console.log(\"Bokeh: ERROR: Unable to run BokehJS code because BokehJS library is missing\");\n",
       "        clearInterval(timer);\n",
       "      }\n",
       "    }, 10, root)\n",
       "  }\n",
       "})(window);"
      ],
      "application/vnd.bokehjs_exec.v0+json": ""
     },
     "metadata": {
      "application/vnd.bokehjs_exec.v0+json": {
       "id": "5162"
      }
     },
     "output_type": "display_data"
    },
    {
     "data": {
      "text/html": [
       "\n",
       "\n",
       "\n",
       "\n",
       "\n",
       "\n",
       "  <div class=\"bk-root\" id=\"2edd10a1-76f5-4350-8f7b-e990a2b319f5\" data-root-id=\"5603\"></div>\n"
      ]
     },
     "metadata": {},
     "output_type": "display_data"
    },
    {
     "data": {
      "application/javascript": [
       "(function(root) {\n",
       "  function embed_document(root) {\n",
       "    \n",
       "  var docs_json = {\"d6c08527-ae24-4048-91cc-d956b9cf3da4\":{\"roots\":{\"references\":[{\"attributes\":{\"below\":[{\"id\":\"5613\",\"type\":\"DatetimeAxis\"}],\"left\":[{\"id\":\"5618\",\"type\":\"LinearAxis\"}],\"plot_height\":350,\"plot_width\":800,\"renderers\":[{\"id\":\"5613\",\"type\":\"DatetimeAxis\"},{\"id\":\"5617\",\"type\":\"Grid\"},{\"id\":\"5618\",\"type\":\"LinearAxis\"},{\"id\":\"5622\",\"type\":\"Grid\"},{\"id\":\"5631\",\"type\":\"BoxAnnotation\"},{\"id\":\"5641\",\"type\":\"GlyphRenderer\"}],\"title\":{\"id\":\"5602\",\"type\":\"Title\"},\"toolbar\":{\"id\":\"5629\",\"type\":\"Toolbar\"},\"x_range\":{\"id\":\"5605\",\"type\":\"DataRange1d\"},\"x_scale\":{\"id\":\"5609\",\"type\":\"LinearScale\"},\"y_range\":{\"id\":\"5607\",\"type\":\"DataRange1d\"},\"y_scale\":{\"id\":\"5611\",\"type\":\"LinearScale\"}},\"id\":\"5603\",\"subtype\":\"Figure\",\"type\":\"Plot\"},{\"attributes\":{\"active_drag\":\"auto\",\"active_inspect\":\"auto\",\"active_multi\":null,\"active_scroll\":\"auto\",\"active_tap\":\"auto\",\"tools\":[{\"id\":\"5623\",\"type\":\"PanTool\"},{\"id\":\"5624\",\"type\":\"WheelZoomTool\"},{\"id\":\"5625\",\"type\":\"BoxZoomTool\"},{\"id\":\"5626\",\"type\":\"SaveTool\"},{\"id\":\"5627\",\"type\":\"ResetTool\"},{\"id\":\"5628\",\"type\":\"HelpTool\"}]},\"id\":\"5629\",\"type\":\"Toolbar\"},{\"attributes\":{\"days\":[1,15]},\"id\":\"5934\",\"type\":\"DaysTicker\"},{\"attributes\":{\"base\":24,\"mantissas\":[1,2,4,6,8,12],\"max_interval\":43200000.0,\"min_interval\":3600000.0,\"num_minor_ticks\":0},\"id\":\"5930\",\"type\":\"AdaptiveTicker\"},{\"attributes\":{\"grid_line_color\":{\"value\":null},\"plot\":{\"id\":\"5603\",\"subtype\":\"Figure\",\"type\":\"Plot\"},\"ticker\":{\"id\":\"5614\",\"type\":\"DatetimeTicker\"}},\"id\":\"5617\",\"type\":\"Grid\"},{\"attributes\":{\"callback\":null,\"data\":{\"x\":{\"__ndarray__\":\"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\",\"dtype\":\"float64\",\"shape\":[830]},\"y\":{\"__ndarray__\":\"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\",\"dtype\":\"float64\",\"shape\":[830]}},\"selected\":{\"id\":\"5940\",\"type\":\"Selection\"},\"selection_policy\":{\"id\":\"5941\",\"type\":\"UnionRenderers\"}},\"id\":\"5638\",\"type\":\"ColumnDataSource\"},{\"attributes\":{\"mantissas\":[1,2,5],\"max_interval\":500.0,\"num_minor_ticks\":0},\"id\":\"5928\",\"type\":\"AdaptiveTicker\"},{\"attributes\":{\"data_source\":{\"id\":\"5638\",\"type\":\"ColumnDataSource\"},\"glyph\":{\"id\":\"5639\",\"type\":\"Line\"},\"hover_glyph\":null,\"muted_glyph\":null,\"nonselection_glyph\":{\"id\":\"5640\",\"type\":\"Line\"},\"selection_glyph\":null,\"view\":{\"id\":\"5642\",\"type\":\"CDSView\"}},\"id\":\"5641\",\"type\":\"GlyphRenderer\"},{\"attributes\":{},\"id\":\"5628\",\"type\":\"HelpTool\"},{\"attributes\":{\"months\":[0,4,8]},\"id\":\"5937\",\"type\":\"MonthsTicker\"},{\"attributes\":{\"overlay\":{\"id\":\"5631\",\"type\":\"BoxAnnotation\"}},\"id\":\"5625\",\"type\":\"BoxZoomTool\"},{\"attributes\":{},\"id\":\"5627\",\"type\":\"ResetTool\"},{\"attributes\":{\"source\":{\"id\":\"5638\",\"type\":\"ColumnDataSource\"}},\"id\":\"5642\",\"type\":\"CDSView\"},{\"attributes\":{\"months\":[0,6]},\"id\":\"5938\",\"type\":\"MonthsTicker\"},{\"attributes\":{\"line_alpha\":0.1,\"line_color\":\"#1f77b4\",\"x\":{\"field\":\"x\"},\"y\":{\"field\":\"y\"}},\"id\":\"5640\",\"type\":\"Line\"},{\"attributes\":{\"days\":[1,8,15,22]},\"id\":\"5933\",\"type\":\"DaysTicker\"},{\"attributes\":{},\"id\":\"5939\",\"type\":\"YearsTicker\"},{\"attributes\":{},\"id\":\"5609\",\"type\":\"LinearScale\"},{\"attributes\":{\"months\":[0,1,2,3,4,5,6,7,8,9,10,11]},\"id\":\"5935\",\"type\":\"MonthsTicker\"},{\"attributes\":{\"months\":[0,2,4,6,8,10]},\"id\":\"5936\",\"type\":\"MonthsTicker\"},{\"attributes\":{\"line_color\":\"#1f77b4\",\"x\":{\"field\":\"x\"},\"y\":{\"field\":\"y\"}},\"id\":\"5639\",\"type\":\"Line\"},{\"attributes\":{\"num_minor_ticks\":5,\"tickers\":[{\"id\":\"5928\",\"type\":\"AdaptiveTicker\"},{\"id\":\"5929\",\"type\":\"AdaptiveTicker\"},{\"id\":\"5930\",\"type\":\"AdaptiveTicker\"},{\"id\":\"5931\",\"type\":\"DaysTicker\"},{\"id\":\"5932\",\"type\":\"DaysTicker\"},{\"id\":\"5933\",\"type\":\"DaysTicker\"},{\"id\":\"5934\",\"type\":\"DaysTicker\"},{\"id\":\"5935\",\"type\":\"MonthsTicker\"},{\"id\":\"5936\",\"type\":\"MonthsTicker\"},{\"id\":\"5937\",\"type\":\"MonthsTicker\"},{\"id\":\"5938\",\"type\":\"MonthsTicker\"},{\"id\":\"5939\",\"type\":\"YearsTicker\"}]},\"id\":\"5614\",\"type\":\"DatetimeTicker\"},{\"attributes\":{},\"id\":\"5941\",\"type\":\"UnionRenderers\"},{\"attributes\":{\"callback\":null},\"id\":\"5605\",\"type\":\"DataRange1d\"},{\"attributes\":{},\"id\":\"5924\",\"type\":\"DatetimeTickFormatter\"},{\"attributes\":{\"bottom_units\":\"screen\",\"fill_alpha\":{\"value\":0.5},\"fill_color\":{\"value\":\"lightgrey\"},\"left_units\":\"screen\",\"level\":\"overlay\",\"line_alpha\":{\"value\":1.0},\"line_color\":{\"value\":\"black\"},\"line_dash\":[4,4],\"line_width\":{\"value\":2},\"plot\":null,\"render_mode\":\"css\",\"right_units\":\"screen\",\"top_units\":\"screen\"},\"id\":\"5631\",\"type\":\"BoxAnnotation\"},{\"attributes\":{\"axis_label\":\"Value\",\"formatter\":{\"id\":\"5926\",\"type\":\"BasicTickFormatter\"},\"plot\":{\"id\":\"5603\",\"subtype\":\"Figure\",\"type\":\"Plot\"},\"ticker\":{\"id\":\"5619\",\"type\":\"BasicTicker\"}},\"id\":\"5618\",\"type\":\"LinearAxis\"},{\"attributes\":{\"dimension\":1,\"grid_line_alpha\":{\"value\":0.5},\"plot\":{\"id\":\"5603\",\"subtype\":\"Figure\",\"type\":\"Plot\"},\"ticker\":{\"id\":\"5619\",\"type\":\"BasicTicker\"}},\"id\":\"5622\",\"type\":\"Grid\"},{\"attributes\":{\"callback\":null},\"id\":\"5607\",\"type\":\"DataRange1d\"},{\"attributes\":{\"days\":[1,2,3,4,5,6,7,8,9,10,11,12,13,14,15,16,17,18,19,20,21,22,23,24,25,26,27,28,29,30,31]},\"id\":\"5931\",\"type\":\"DaysTicker\"},{\"attributes\":{},\"id\":\"5624\",\"type\":\"WheelZoomTool\"},{\"attributes\":{},\"id\":\"5623\",\"type\":\"PanTool\"},{\"attributes\":{\"days\":[1,4,7,10,13,16,19,22,25,28]},\"id\":\"5932\",\"type\":\"DaysTicker\"},{\"attributes\":{},\"id\":\"5611\",\"type\":\"LinearScale\"},{\"attributes\":{\"base\":60,\"mantissas\":[1,2,5,10,15,20,30],\"max_interval\":1800000.0,\"min_interval\":1000.0,\"num_minor_ticks\":0},\"id\":\"5929\",\"type\":\"AdaptiveTicker\"},{\"attributes\":{},\"id\":\"5619\",\"type\":\"BasicTicker\"},{\"attributes\":{},\"id\":\"5626\",\"type\":\"SaveTool\"},{\"attributes\":{\"plot\":null,\"text\":\"(Self-calibrated - Traditional) PDSI Difference\"},\"id\":\"5602\",\"type\":\"Title\"},{\"attributes\":{\"axis_label\":\"Time\",\"formatter\":{\"id\":\"5924\",\"type\":\"DatetimeTickFormatter\"},\"plot\":{\"id\":\"5603\",\"subtype\":\"Figure\",\"type\":\"Plot\"},\"ticker\":{\"id\":\"5614\",\"type\":\"DatetimeTicker\"}},\"id\":\"5613\",\"type\":\"DatetimeAxis\"},{\"attributes\":{},\"id\":\"5926\",\"type\":\"BasicTickFormatter\"},{\"attributes\":{},\"id\":\"5940\",\"type\":\"Selection\"}],\"root_ids\":[\"5603\"]},\"title\":\"Bokeh Application\",\"version\":\"1.0.4\"}};\n",
       "  var render_items = [{\"docid\":\"d6c08527-ae24-4048-91cc-d956b9cf3da4\",\"roots\":{\"5603\":\"2edd10a1-76f5-4350-8f7b-e990a2b319f5\"}}];\n",
       "  root.Bokeh.embed.embed_items_notebook(docs_json, render_items);\n",
       "\n",
       "  }\n",
       "  if (root.Bokeh !== undefined) {\n",
       "    embed_document(root);\n",
       "  } else {\n",
       "    var attempts = 0;\n",
       "    var timer = setInterval(function(root) {\n",
       "      if (root.Bokeh !== undefined) {\n",
       "        embed_document(root);\n",
       "        clearInterval(timer);\n",
       "      }\n",
       "      attempts++;\n",
       "      if (attempts > 100) {\n",
       "        console.log(\"Bokeh: ERROR: Unable to run BokehJS code because BokehJS library is missing\");\n",
       "        clearInterval(timer);\n",
       "      }\n",
       "    }, 10, root)\n",
       "  }\n",
       "})(window);"
      ],
      "application/vnd.bokehjs_exec.v0+json": ""
     },
     "metadata": {
      "application/vnd.bokehjs_exec.v0+json": {
       "id": "5603"
      }
     },
     "output_type": "display_data"
    },
    {
     "data": {
      "text/html": [
       "\n",
       "\n",
       "\n",
       "\n",
       "\n",
       "\n",
       "  <div class=\"bk-root\" id=\"9afcd169-eb51-4413-bfc5-ef098cfc8559\" data-root-id=\"6064\"></div>\n"
      ]
     },
     "metadata": {},
     "output_type": "display_data"
    },
    {
     "data": {
      "application/javascript": [
       "(function(root) {\n",
       "  function embed_document(root) {\n",
       "    \n",
       "  var docs_json = {\"61088db8-e8af-474e-9708-e59c4c68e303\":{\"roots\":{\"references\":[{\"attributes\":{\"below\":[{\"id\":\"6074\",\"type\":\"DatetimeAxis\"}],\"left\":[{\"id\":\"6079\",\"type\":\"LinearAxis\"}],\"plot_height\":350,\"plot_width\":800,\"renderers\":[{\"id\":\"6074\",\"type\":\"DatetimeAxis\"},{\"id\":\"6078\",\"type\":\"Grid\"},{\"id\":\"6079\",\"type\":\"LinearAxis\"},{\"id\":\"6083\",\"type\":\"Grid\"},{\"id\":\"6092\",\"type\":\"BoxAnnotation\"},{\"id\":\"6102\",\"type\":\"GlyphRenderer\"}],\"title\":{\"id\":\"6063\",\"type\":\"Title\"},\"toolbar\":{\"id\":\"6090\",\"type\":\"Toolbar\"},\"x_range\":{\"id\":\"6066\",\"type\":\"DataRange1d\"},\"x_scale\":{\"id\":\"6070\",\"type\":\"LinearScale\"},\"y_range\":{\"id\":\"6068\",\"type\":\"DataRange1d\"},\"y_scale\":{\"id\":\"6072\",\"type\":\"LinearScale\"}},\"id\":\"6064\",\"subtype\":\"Figure\",\"type\":\"Plot\"},{\"attributes\":{\"months\":[0,1,2,3,4,5,6,7,8,9,10,11]},\"id\":\"6416\",\"type\":\"MonthsTicker\"},{\"attributes\":{\"days\":[1,4,7,10,13,16,19,22,25,28]},\"id\":\"6413\",\"type\":\"DaysTicker\"},{\"attributes\":{},\"id\":\"6080\",\"type\":\"BasicTicker\"},{\"attributes\":{},\"id\":\"6420\",\"type\":\"YearsTicker\"},{\"attributes\":{},\"id\":\"6072\",\"type\":\"LinearScale\"},{\"attributes\":{\"callback\":null,\"data\":{\"x\":{\"__ndarray__\":\"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\",\"dtype\":\"float64\",\"shape\":[830]},\"y\":{\"__ndarray__\":\"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\",\"dtype\":\"float64\",\"shape\":[830]}},\"selected\":{\"id\":\"6421\",\"type\":\"Selection\"},\"selection_policy\":{\"id\":\"6422\",\"type\":\"UnionRenderers\"}},\"id\":\"6099\",\"type\":\"ColumnDataSource\"},{\"attributes\":{\"source\":{\"id\":\"6099\",\"type\":\"ColumnDataSource\"}},\"id\":\"6103\",\"type\":\"CDSView\"},{\"attributes\":{\"axis_label\":\"Time\",\"formatter\":{\"id\":\"6405\",\"type\":\"DatetimeTickFormatter\"},\"plot\":{\"id\":\"6064\",\"subtype\":\"Figure\",\"type\":\"Plot\"},\"ticker\":{\"id\":\"6075\",\"type\":\"DatetimeTicker\"}},\"id\":\"6074\",\"type\":\"DatetimeAxis\"},{\"attributes\":{},\"id\":\"6087\",\"type\":\"SaveTool\"},{\"attributes\":{\"months\":[0,6]},\"id\":\"6419\",\"type\":\"MonthsTicker\"},{\"attributes\":{\"plot\":null,\"text\":\"PHDI\"},\"id\":\"6063\",\"type\":\"Title\"},{\"attributes\":{},\"id\":\"6405\",\"type\":\"DatetimeTickFormatter\"},{\"attributes\":{\"axis_label\":\"Value\",\"formatter\":{\"id\":\"6407\",\"type\":\"BasicTickFormatter\"},\"plot\":{\"id\":\"6064\",\"subtype\":\"Figure\",\"type\":\"Plot\"},\"ticker\":{\"id\":\"6080\",\"type\":\"BasicTicker\"}},\"id\":\"6079\",\"type\":\"LinearAxis\"},{\"attributes\":{\"base\":24,\"mantissas\":[1,2,4,6,8,12],\"max_interval\":43200000.0,\"min_interval\":3600000.0,\"num_minor_ticks\":0},\"id\":\"6411\",\"type\":\"AdaptiveTicker\"},{\"attributes\":{\"bottom_units\":\"screen\",\"fill_alpha\":{\"value\":0.5},\"fill_color\":{\"value\":\"lightgrey\"},\"left_units\":\"screen\",\"level\":\"overlay\",\"line_alpha\":{\"value\":1.0},\"line_color\":{\"value\":\"black\"},\"line_dash\":[4,4],\"line_width\":{\"value\":2},\"plot\":null,\"render_mode\":\"css\",\"right_units\":\"screen\",\"top_units\":\"screen\"},\"id\":\"6092\",\"type\":\"BoxAnnotation\"},{\"attributes\":{\"days\":[1,8,15,22]},\"id\":\"6414\",\"type\":\"DaysTicker\"},{\"attributes\":{\"num_minor_ticks\":5,\"tickers\":[{\"id\":\"6409\",\"type\":\"AdaptiveTicker\"},{\"id\":\"6410\",\"type\":\"AdaptiveTicker\"},{\"id\":\"6411\",\"type\":\"AdaptiveTicker\"},{\"id\":\"6412\",\"type\":\"DaysTicker\"},{\"id\":\"6413\",\"type\":\"DaysTicker\"},{\"id\":\"6414\",\"type\":\"DaysTicker\"},{\"id\":\"6415\",\"type\":\"DaysTicker\"},{\"id\":\"6416\",\"type\":\"MonthsTicker\"},{\"id\":\"6417\",\"type\":\"MonthsTicker\"},{\"id\":\"6418\",\"type\":\"MonthsTicker\"},{\"id\":\"6419\",\"type\":\"MonthsTicker\"},{\"id\":\"6420\",\"type\":\"YearsTicker\"}]},\"id\":\"6075\",\"type\":\"DatetimeTicker\"},{\"attributes\":{\"overlay\":{\"id\":\"6092\",\"type\":\"BoxAnnotation\"}},\"id\":\"6086\",\"type\":\"BoxZoomTool\"},{\"attributes\":{},\"id\":\"6421\",\"type\":\"Selection\"},{\"attributes\":{\"callback\":null},\"id\":\"6068\",\"type\":\"DataRange1d\"},{\"attributes\":{},\"id\":\"6407\",\"type\":\"BasicTickFormatter\"},{\"attributes\":{},\"id\":\"6422\",\"type\":\"UnionRenderers\"},{\"attributes\":{\"line_alpha\":0.1,\"line_color\":\"#1f77b4\",\"x\":{\"field\":\"x\"},\"y\":{\"field\":\"y\"}},\"id\":\"6101\",\"type\":\"Line\"},{\"attributes\":{},\"id\":\"6070\",\"type\":\"LinearScale\"},{\"attributes\":{\"days\":[1,2,3,4,5,6,7,8,9,10,11,12,13,14,15,16,17,18,19,20,21,22,23,24,25,26,27,28,29,30,31]},\"id\":\"6412\",\"type\":\"DaysTicker\"},{\"attributes\":{\"dimension\":1,\"grid_line_alpha\":{\"value\":0.5},\"plot\":{\"id\":\"6064\",\"subtype\":\"Figure\",\"type\":\"Plot\"},\"ticker\":{\"id\":\"6080\",\"type\":\"BasicTicker\"}},\"id\":\"6083\",\"type\":\"Grid\"},{\"attributes\":{},\"id\":\"6088\",\"type\":\"ResetTool\"},{\"attributes\":{\"mantissas\":[1,2,5],\"max_interval\":500.0,\"num_minor_ticks\":0},\"id\":\"6409\",\"type\":\"AdaptiveTicker\"},{\"attributes\":{\"days\":[1,15]},\"id\":\"6415\",\"type\":\"DaysTicker\"},{\"attributes\":{\"months\":[0,2,4,6,8,10]},\"id\":\"6417\",\"type\":\"MonthsTicker\"},{\"attributes\":{\"months\":[0,4,8]},\"id\":\"6418\",\"type\":\"MonthsTicker\"},{\"attributes\":{\"data_source\":{\"id\":\"6099\",\"type\":\"ColumnDataSource\"},\"glyph\":{\"id\":\"6100\",\"type\":\"Line\"},\"hover_glyph\":null,\"muted_glyph\":null,\"nonselection_glyph\":{\"id\":\"6101\",\"type\":\"Line\"},\"selection_glyph\":null,\"view\":{\"id\":\"6103\",\"type\":\"CDSView\"}},\"id\":\"6102\",\"type\":\"GlyphRenderer\"},{\"attributes\":{\"active_drag\":\"auto\",\"active_inspect\":\"auto\",\"active_multi\":null,\"active_scroll\":\"auto\",\"active_tap\":\"auto\",\"tools\":[{\"id\":\"6084\",\"type\":\"PanTool\"},{\"id\":\"6085\",\"type\":\"WheelZoomTool\"},{\"id\":\"6086\",\"type\":\"BoxZoomTool\"},{\"id\":\"6087\",\"type\":\"SaveTool\"},{\"id\":\"6088\",\"type\":\"ResetTool\"},{\"id\":\"6089\",\"type\":\"HelpTool\"}]},\"id\":\"6090\",\"type\":\"Toolbar\"},{\"attributes\":{\"grid_line_color\":{\"value\":null},\"plot\":{\"id\":\"6064\",\"subtype\":\"Figure\",\"type\":\"Plot\"},\"ticker\":{\"id\":\"6075\",\"type\":\"DatetimeTicker\"}},\"id\":\"6078\",\"type\":\"Grid\"},{\"attributes\":{\"base\":60,\"mantissas\":[1,2,5,10,15,20,30],\"max_interval\":1800000.0,\"min_interval\":1000.0,\"num_minor_ticks\":0},\"id\":\"6410\",\"type\":\"AdaptiveTicker\"},{\"attributes\":{\"line_color\":\"#1f77b4\",\"x\":{\"field\":\"x\"},\"y\":{\"field\":\"y\"}},\"id\":\"6100\",\"type\":\"Line\"},{\"attributes\":{},\"id\":\"6089\",\"type\":\"HelpTool\"},{\"attributes\":{\"callback\":null},\"id\":\"6066\",\"type\":\"DataRange1d\"},{\"attributes\":{},\"id\":\"6085\",\"type\":\"WheelZoomTool\"},{\"attributes\":{},\"id\":\"6084\",\"type\":\"PanTool\"}],\"root_ids\":[\"6064\"]},\"title\":\"Bokeh Application\",\"version\":\"1.0.4\"}};\n",
       "  var render_items = [{\"docid\":\"61088db8-e8af-474e-9708-e59c4c68e303\",\"roots\":{\"6064\":\"9afcd169-eb51-4413-bfc5-ef098cfc8559\"}}];\n",
       "  root.Bokeh.embed.embed_items_notebook(docs_json, render_items);\n",
       "\n",
       "  }\n",
       "  if (root.Bokeh !== undefined) {\n",
       "    embed_document(root);\n",
       "  } else {\n",
       "    var attempts = 0;\n",
       "    var timer = setInterval(function(root) {\n",
       "      if (root.Bokeh !== undefined) {\n",
       "        embed_document(root);\n",
       "        clearInterval(timer);\n",
       "      }\n",
       "      attempts++;\n",
       "      if (attempts > 100) {\n",
       "        console.log(\"Bokeh: ERROR: Unable to run BokehJS code because BokehJS library is missing\");\n",
       "        clearInterval(timer);\n",
       "      }\n",
       "    }, 10, root)\n",
       "  }\n",
       "})(window);"
      ],
      "application/vnd.bokehjs_exec.v0+json": ""
     },
     "metadata": {
      "application/vnd.bokehjs_exec.v0+json": {
       "id": "6064"
      }
     },
     "output_type": "display_data"
    },
    {
     "data": {
      "text/html": [
       "\n",
       "\n",
       "\n",
       "\n",
       "\n",
       "\n",
       "  <div class=\"bk-root\" id=\"351b56c8-9748-4972-909d-04171cc2f452\" data-root-id=\"6545\"></div>\n"
      ]
     },
     "metadata": {},
     "output_type": "display_data"
    },
    {
     "data": {
      "application/javascript": [
       "(function(root) {\n",
       "  function embed_document(root) {\n",
       "    \n",
       "  var docs_json = {\"948d0a35-865b-41cc-993e-cdfb5ad5dd1b\":{\"roots\":{\"references\":[{\"attributes\":{\"below\":[{\"id\":\"6555\",\"type\":\"DatetimeAxis\"}],\"left\":[{\"id\":\"6560\",\"type\":\"LinearAxis\"}],\"plot_height\":350,\"plot_width\":800,\"renderers\":[{\"id\":\"6555\",\"type\":\"DatetimeAxis\"},{\"id\":\"6559\",\"type\":\"Grid\"},{\"id\":\"6560\",\"type\":\"LinearAxis\"},{\"id\":\"6564\",\"type\":\"Grid\"},{\"id\":\"6573\",\"type\":\"BoxAnnotation\"},{\"id\":\"6583\",\"type\":\"GlyphRenderer\"}],\"title\":{\"id\":\"6544\",\"type\":\"Title\"},\"toolbar\":{\"id\":\"6571\",\"type\":\"Toolbar\"},\"x_range\":{\"id\":\"6547\",\"type\":\"DataRange1d\"},\"x_scale\":{\"id\":\"6551\",\"type\":\"LinearScale\"},\"y_range\":{\"id\":\"6549\",\"type\":\"DataRange1d\"},\"y_scale\":{\"id\":\"6553\",\"type\":\"LinearScale\"}},\"id\":\"6545\",\"subtype\":\"Figure\",\"type\":\"Plot\"},{\"attributes\":{\"callback\":null,\"data\":{\"x\":{\"__ndarray__\":\"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\",\"dtype\":\"float64\",\"shape\":[830]},\"y\":{\"__ndarray__\":\"9z23zC/A4D9L3c7HT538P9AeGGlXPAxAfBg1Ljz7DEBcKsosiw4KQCfR1Dzx7QFAiop0OxkYBUD9xIvOlykKQK8VWSAaT/0/qlrmp7QoCkCXAJPBPZoAQNXX99gykgVAHCzWyB85D0AnKnrw+v4UQEb+YrNtFBhAunahw46JDUDrL28EmuIIQJMKywXkRuU/TCXMRgAL9b//ACLYaqf8v1Dio62I7vC/GGWhm2sX4j/EpEgC+enXv1wupW8FZtO/wPGcYhmpor+SQ3tHJPbSP3hNhZ2fxK4/2OsujcZynD+S5sO0Ydi6v/hRX876oMA/FKmcLMHszD9IeEu1WALJv1r3UfJhU+6/zmgSAQQh/b9GyyGXgfIGwJS7w95VNwLAHqKwyetKB0DWrAu/hkUEQMdGgdsa1/U/dsABzfIZ1z9cVkbUID7Bv7hidll+yeE/Igl1nz357z8mQ5+HMxnSP6l7ayPdcP0/oPZr3YuZ3z9cmZ/zIoriP37t3M0nLgJAVcp+sXCGDECCsb4jTw0RQJ1CDTLNTAJAS5j8m798BUCIP+uBLhL1P3X/AJWD8Ps/C3a2Xkpc/D+0mg6o8OMHQAujhIBR3QRAw6ovSth49D+kRD8+6RwGQHDwuSfU9PU/Kyh+HT2m9L8Uh0Ii4ba/v9F/8qSIuPA/SKPr27zk+z8J4FRd2XP5P+Im1vFtMAVANBxOR/cHDEAZyjz4HQ8FQHvFJrhCBfI/TQJ5NRIKAECCgGDAjO8JQP96UmfkDAxAJlLl01F0/D+aCJAa6+roP3OibEucIwRAaA6TwWK21L/Ixoh0/X7/v7YnXAtwcu+/1B1h8/wf/r8i9NYcQLLxv6IsPcy09PI/HaDUbnZ0AkAYGQCVQST1v45OODrG+Ps/yOmDofzJsD8kjjOOvobtPyz+rOtZOfQ/Fi8LAD8D+T8EO7QAqnm4v38NLhmvZtu/jA9SnSYy0D8U0zCEDTLSP1gH6AriRem/t1kn86Cd8b/bvOt1B5MAwNbL3pkG9OG/fxT5vwgE878VJ5SvuWf0v8IN8NnHDwPAXd7Yp2Ld/L9U067/eWUAwMekbgYsngPA3iVjttaNCsAkS8QrFS0LwPlYz7Ig+wnACNVp5dKrBcAAAXB02mHmv8XVbZbID+e/TAseHwzGwb9mqBUvyOXfv9gt8yMalKc/I9NGn1bq8z/o6tvcpfHzP/oMlioAOPw/NkpoTMwX/D8qNLU/t2jHP6uKG77Mw/4/vDHBhRul9D+KoPzsInb4PxNbUVJE7uc/OUl+ZNdFyT/QRMReJDrUP+DcXH0C4fE/7NJIUc2X8D+NHMNEwhn3PyVJUKgW6ek/REF5YukV57/uHfM3wjjnv9v3cT9CAfG/d7suGj9x8b/0+vT8pMn0v+o9P//KyP+/IEsyWCa+5T/nwUi3v6kFQPt3Op4y2gNA5CrwAFPu/T8WLUsFiycBQENJV3hcq/A/UrN1gmkB1z8AH8Tm3LtfPy4k1OL2gfC/7qsCsEkU5b+sUBp9yP/yvx1VePu6Su6/jheCCcDu+b+5kvXJwf8BwP5guSND4/u/72DA6jQm9r91OdLCWVzxv12rMHO6h/C/wODsgtG69r+chiYOpy/qP/x7hq4v6ew/358nAzLu4j+UR39gad/5P9QL57s7Meg/ckC8w0+k978zgmqOSwf0v7pFuBZaOADAJILqDiZsAcAghN8h5ccBwBGNR/V4ZgDAYl9i85xK4L+GK6gHhO7yv02f8W0TO/2/xl/8flX82z+CM54HbODPvw7kgmoXYto/nhSt/Go89D81na0sEMncvxzyCq7ISdS/pZFyKkSK3r82Ftl+Jg/mv4rV/4VUmN6/1k3GvANC5D+U9DPjQMLqPz2mPOk+2vQ/7I3lrXvc6r/tB/PyCnbxv2QQi8ok7/e/MG8V5Ogu4r/JY+h59gboPx2FSlCf9vK/CxoEiJVp8r9l0uRPWqrSv74vpCn3APK/hqQGjjU++b9o8dC+6i+nv/CIc//XuLq/l5Nva/om6b8JhCFSXwLmv6SSq5do9tg/diIeJgQ94z8keoE6MbHov6L528ID1vG/QkkC6zFE9r9sWyMd5H/0v8q8COoMZPa/yBXxzn9aqD8whR1v4C3svwu33F2SZ+e/8LwBr0YglD/7I9bYa2vzv0PxQNW7INE/oN8bPGBdAED5as/H/Oz5P8V47VeJPuI/E6r8IpFL7j/64KdzqmXlPwrr+/Jnk8a/htZGKIKB8L+ml2UOu0L+v7oiw/JBfPm/I9ET5Biv/j+06AwkYE73vx9qeAZ+SvC/AAa6sdubbL8s5WAMyWjAvwzQwMyGluM/gNEXo15l5j+iZF7Az0zjP9GjqRQ3lew/Bhuk29WF7D/S4IrBUZb7P09LZvfNjv0/kU8c+gZT/T/L1cZ3vGffP4qUc768iP8/M8xNcclqAEDxBWja3JPkv+xsYl55Adi/WlYmRdi71z+gySZBeezMv6SpXYVqZvC/ulgZewUz97+xkaEPV2H5vzIOyLJuEOQ/sr0HxUJv9L9+66he+qgAwGLLcg+g7wPAaembZ7uuAsB7brnZUU8GwOVG/3/8mgrA9Lz6AFG90T84BEvGXZfBv86nuxgMpvG/7r0nvKNd/L+KpwWW7wsGwAD275HjIeG/K/hi61nAAcDati47t00DwPjp+Pds9ADAAnhb5xoW9r9UiLbVbrHmvxkjoU4LOvE/qpcTGYH147/OiXJAuSPrv9VflwmrpeO/HX27gRfD6L9eywDAuh7zvyVGRw2Dwdi/yC1K9nXz6L+11Q6fMcDWv1qtCIcoEug/0jkvOzOO9j8+8qZKLEAFQDJ3zUQXMw5AGXPKq2XBDEBloBSzPNz7P+xEN7ab+vU/6T+gPkldBUDBQ4uN4JAEQPSloTz1ZghAGKPGzZxK6j/r+E7DBOL4v9YK6ESmgAJAKlKRGtBN7z9n1Ljj6BX1vzIang7RRgHArUoGQ/7VBMB1Qn/cK64EwLRHWv3xQgXA832b+KiwBsAyWITTKMgHwJglsFf3YwnAqpF1tV+FBMBLeOnXkaf0vyIIn8VF7+2/0KsrUzDO+T8KjNNhcHz8P5yLVRZaqf8/ZZxTYyqx8z/cY7Tf3q/8P3/2AityIP8/Lwu5bXAHA0DuM8/zqTDuP8eigSerFu+/KzpafcusAMBk2feKnAfvvwhgc36BWrq/VL8uEsT70D9hhACK9ZPwPyKAk4WpRuK/NGbXWexn6b+WkCahJq7rv5gfkaDFGvO/J0TuL18N+L/ZnWFrPUD8P18QXlsXYOC/oaaLlF3v/z+iRnqzFh0BQCOKSk8IKAhAZ+lv/9ykCUAKPqMz514QQHuGvJfq2gtAjPUAw3ygB0D6ty4KGS8KQEssvdbc7QhAr0gE4syrB0AXT3H9amsLQBDbXRG7oAJAmJst99Sm6D/YhVpgqvD9v+N8ZKb6KAfAejktF9tWDcBtnU4TPj0PwJfWoZKpW/u/Us0tO5vZAcC99UHZKmIBwHxCbDtSQQjAoPGkVV4qCcCPpwCLWkP/v8HHTKBWh/K/AF9dXvvq978kqotPNPfKP9BvJSyjTdC/atDXG5lh9L9Y1DwRsnMBwPXQg45LHATA1+siEmtFBMAoRa6YuL8CwFMyRMf26gXAKcUrftOTCMBsjAGI7HsCwPCJ9/zWEem/Wma6FXNqBcB9GPzb0NABwFQhBMf0VgvAgEsHVr62EcDFfH58g0UEwMAMrQFGLw7AwAzay+nCDMCupwvX37kNwIPAcZ49sw3AjmjMjFf6DMATWAd17Q0OwI0FXXe6gAfAXeDpeawrCsAh0saIYRQRwHXBsYF/cfQ/zB6RhBxW4j+mwdKyRhzjP+oxFeOEMuw/QCStk3bikD8iUMzfJVvuP1OIBg7BBwRACB2EEwcRCUDW3DX2quwIQNa1+83WEwlAFvnpWKHl0D/OkVVBZ8sGQDtiGpC54wtAuDHr6WXn2r8404Lr0e70P6kfIjt74+W/nleU0IdA7D83SQ/OpGr8P+oIKPDbowtAOa6FurY6D0AUJ2AW2KoHQHQiofRuqgtAvBAYPMv1C0CXG+F4IisBQPZUAe4xagRAzFYFe65PD0DR60igLCURQFTAhHH2VARATG6/6p+VA0AblebujyH6P6bOl4jq+/U/qXXPDBc3/j+MdTNLTJn0P2G9nEBfiN4/PxdX7BJG3L+oIbEuB4/2v6zkVPER2bA/pS/mvbW68D8W1YBc/w3yP2XEpeX9A/E/MxvgSx+t2r8gZqAlpgfev/ARkuOEKNy/X2iuwAht5T++0fXBxsXrP4mMCzW6pPc/5jwhiUDgvr+s3tWia2r6P0BKNbliNo+/2KgcZmnZ4r/2YyhLPo3sv5chYMWZruy/HFu4r9EU6r/PcR+7n8PxP65iAu2Laf8/KEzFOuMgA0AemHaAI9rzPzpXofKyDvU/e+VUL8xl+j9dvmP41ZoCQDOTG0ZsfgFAOBqdz/0c+r8jD0l6+237v1X05cImCgDAYk+ZQjqV5b/UVBLFbFPJvwVkbunQ8u4/jBYlEGf27z/QX/52zWDeP3X0afkv2+a/nQR5Rwul8T/0GNhKYHjNv57zZ5Lh1wHAf+VPJtZE9r8pJR6TQeHyPwaZ9Bzpksw/VhbCinow5D+JF9Y2H5X4Py0lFdpLqvM/Z1QP6+gJ9j9N5ksQbd3lv+iisALP7Om/HWUw8V0y+b+uWnWzopnfP3bsLCkUfwHAn+FEDjAwAcDGe6idOigIwJSMy0+UqwnAFVFFyF/OBMCMzqO9VFf/v9IMPLgwGwTAULZP8TmYA8DZCNzvFWoEwHDkVa9QLAnABzBnB6vNEMBwXwG83x0SwPiDZm+sMA3AC5AM9oeDEcDwwNvOt5sSwFHYGFFWbwHAbD9aVQnf77+gkQV3oejNP85+uzvrpeQ/6myjcVnI6j96wgmRfCfyP5k78rWBivo/1dyICoLu+T8h9wEFv5j4P6rz/pFToew/icUkv3wWzz+kIzrXdKfjvzNfRXvg6dI/TGKdSLFL1T+Sjlm2Rv/cP0HtWSen0Nc/D/g5XPd0y7+gL1MXB5bXP9GzkpZ11O6/zN1X8vDD97/sj12irZfov6629jZ7jfe/9f9dHxZAxj8PpUX7IgLyP0VvmQRqi+e/OPErMG9C3b9WSjuO4gDdPwLgzFPCnu0/bUka17Uh7T/+WrUrq5X1P79XGEbLlea/W4AiiOEj5D+BR7fIgy4MQO4EyLfdyQ1ATuy/tsvZCUAa4QkRUhQKQDwngYqczgJAHjdvcoTaDkDDNQJQrj4LQPS0QXDGwwlAMXqiHzMjC0CohLaPR70QQLjK4LfiWvw/5Kr+lH77x7+hInuSi9/wP8J/WZy8UOE/2uypSVj+AEAaHov14Tz2P71IqIKRM/K/D7LiEv7+6r/DoVyiwHT5v+rvste9mPi/Zja+Go4W9b8gE+nvCrz4v0R1c4bqyfi/au5KoDql/b/uNIOZy973v0AwBtKpjATAtN+zA/U3BsDOqjyzS0sOwOtkJXpMVgfAA7Wxm1UDB8CrT+Wguyjgv6zUUy00rNk/ELY6ujvb/z8mhyX9va/5P24QbUfKDuK//YKVIRAq9r/By6YIdVIAwK+kHk4bIgfASE/ZEQzwD8B6ni8zD/cHwLEuBHsn2gLATTfJJGdTBMAnH3m3pz0DwPP/5s3xnf+/xFaYDmXmAcCvFE7ujJUFwMcgpCVQy/m/EOUJh25a6L/sUv/SP0Xvv6AT9jiBBYg/F9KFNUso+r94y2hpyumtP3pGIL85Qey/WHIs1VOk9r8IVEICVMQAwM5xx+PAewTACvDyx2crA8AojPatHwffP9zFmG1Mc+q/JtASdH3E4j/a91SStdEEQGjRZLGMXgJAfih6IWllAkA1fnb+/EUCQKpYHsKm/8w/uT3ZMUPMAECFQrRLqF0EQCjrGAgQJwBAKAp+lNmJ+D9j3QHjCX7RP4xvmxR26LM/kY4Ar24Q9z/tzYL69mz2P3iXBp/ZEghAWCYJ3zenCUAnHVcUKZP/P7x0cUMubA1A+BuAagLrCkC+5h+DghoLQPVp3BHw5xBAm/kaTvk4E0DsDL6sWrYSQGY9Kt/d+xNAmxfxbcSMFUDSER+7PID/P5CiGOM9C8Y/GNwnfTo9yj9FsCd04WT7vw3ml2gREgXAMKjziXK/C8ACfu8K5SQRwKzr+DFbaxLAc+Pl9onmEMC58ENaTN4RwLvp5leAKxPATPNJjlPWE8BA/6xKrd+Uvy3M+8kIDQJAaaGGPzffC0CY6+UQCuYSQNwk7VVu2w9Aaw3UfhdaAUCI0R4g+hX3P3Oa1x+z8/c/wKe+j4yR7j/fpLpL+lbrPyho0WyAzOS/GvSdho1R5D/Wt+QpKVLPv6TbaloFT9M/G19brJU27L8OEox5/oT5v7JM2wTepv6/duj2zltfBMAGiAiQoK3tvxvJk8OVT9+/C5H2b0cA17+qxlQ56WDwv4bF86VN/gLA7V5pTueNBMC61y3yt2YIwCMgsvhGqgzAyCPtocJOEMDtD7eoJiwSwHQ4rlYJoxHAnk3V67kdEMB8+SMv0HQOwIoj5w/dIwjAKQ/uL6QXBMDlAwq8kbjxv++15m/Axfi/3DFjVuKn6L+0Fm8IXBn3v8nzXxym5uq/S6NJbQFw0r+4z0DRbM7dP/RmC3zV2vA/ottOD/b/9D/oWKG36uTwP0L2kk7yyeo/ypLn6a+pzL98A16a42vvv6K91igzO/e/Ayuw6a/tA8DvQ5hjnJ8HwPD3SBUixQzAwjWcJv4lCMDcqzKXH4QPwNi3HEvQ1AHAW40VR/e3+7/O0por1dT8v3+yj43u1wbA+apoO/coCsBCmFpultsNwN9S7H+mAg7AtL+SMxE5BUBU5cNsXkkCQKgkuavXxbO/vfXE4YsC7b+uZRdAyn8HwMhxx+hqKwrA42swyQi+EMA8sTl3m/MQwL+V9L3GwxLATCo1WjEmE8BS9+zCDiH1v+aBXsxDIdC/Eb1Z3rjy4b8Jek5rxovjv8TcPQE8Ne2/8ApoPXQFvj+3pza8s532vwcblspckfa/V+jNXFBs+7/fbgyIf4H4vxSK03CCkPy/xjghAD2MAMBWnMRgEj78vyr5JcrbsPi/JRwbJK2+8L+E5U6L7mH9v2WHMOh2XgPAAHliybKQjL+l/Hlbgnr1v9TZY49FUgDAsO7AEcNGAcCr45DlGCAAwPXgGzGZEv6/FEPBU09CAcCxMyq53EkFwAB5dZjdxwTAz4dh0PmHCMBfcYc0P1QFQMUszq3p6QBAL/LBKK6pB0AGoabt4mEDQAaV9y8d7gpAlTZHzarfBkAQg+rIfrH9Pw5Jlq/d4v4/pZThKGY9BEA2Flt37WEBQNKIoGBbNPc/snKiLlAR3z/3pqpv9DTyv+cSUVhPTOg/APhC0tJN6L8WmqaZJl71vyfEgDMtbfi/FLzU7DBo87/fXQnTsKj4v4Y3sD0ipvm/06fG0LT4+r/buoRzRL3Qv/rPnymmFfe/rVaAlbiT/79wMyBA7bH5v8+6xGzVLu2/EPgBN9jn+b9FkZdjNXIDwFPheau+5AHAKL1xO0Bp/r9TtkI9mA3Rv5/HzdZWhOS/8mDZIPOh9r8gpyMLw/P5v5dPyOIKC+e/bAgkesne8D8kG8y5I4UAQEOIIQVNBum/3w8K3fiF979vKSpA0MoEwGUdWgqJYQXAwfohDdSzBcASZNt5KXLxvxbebKudheK/+uq7TwuA8L+ItYkFjx/kvxyk52qKdfs/sPI5c47+sz9YPBqx5Yf0v1xJ2rk62sg/qg24r6eK5T+Ke8dUd+3jP3rNtLtQpOk/JF24BTFU+j8O5Id9sccDQGTlBA85oQFANOBr0YWoBECpHAcOQ/kAQMJjPWQ9vfs/pKl3XA935z9JBjxyJv7zPyeEWN0xqfS/OXx7jAoF97+LeqxPChn4v+h3Jjj98Om/8wSKIPRF5L8zZS+k73Hivy1L0i8hSeY/GN1VmQaL8j8cSbtvxLaxP3Bs5lbvFfG/23ftlp9T8T9h43L3NU3kv97kTrPgX+u/QM5P9FCw+b+asNp3oOYBwOCrY0iGJfm/BMX+o//ryD9/AtZ6hHHyP3n49IfsIe4/57w7+c+U3b80H7a6SnbTv2cNPvA+4QRA/i7XXDkk3L+wIVd7A4UAwBDH9C34rgjAdePJpeuaC8AeDkcEQxv+v1yB7JZ1QOk/ZL/xHdQS8T942792kE/oP0CqKYOQErK/ZFZfQ1q/5r/ukbMOWNfuv7V9/WytQNK/aHxEA9+FmD82c1gecYLlv4n3Qb0yEAHAYhzQIs/NA8BCKxXnEdUDwL7otRT4yf2/UkXCf1I+BMCCcMIE58kIwICqwyvRkg/A25MNYFeFEMBO96XwH0oMwKVHnzLnUQPASGV/ecBj9r+AgnSqQB3cvz2qZQgo4Ni/tKm4MkIlA8DG0yNrXND2v+BurCxxFPm/UDZU/iILB8AVAjMdcNgLwNoo5eXJvgrAiXLyZcvGC8CLxgMhZsINwCkE+Kfq/wjALiqdZZ0J879+pvEc6HYHwA/We4ddGwbAEgtSPTKiD8BZWg5bOOIIwLltabXLtv2/wWlvs6z587/mt2QbVWzrv+GMMbZgrum/Rq2ZNRvF9b/0Rkf8lx0EwA/v6DNlJgbAj06//cEU+L/z3vuno9n4v5bQICabJwDAQGBFQvdN/L9w1kHwH478vzC2DN0aTgbAcMFAXOWP9b/eWYDooqADwHqzGUVWGgTAuRcxAgi+BsB/KfPk1SsKwBDZSPnoWgfA8pMFJTrACMAZn/F+iu4GwHW0JZFIyQbAR/e4Lo1sCcCagLDKOCAKwA==\",\"dtype\":\"float64\",\"shape\":[830]}},\"selected\":{\"id\":\"6922\",\"type\":\"Selection\"},\"selection_policy\":{\"id\":\"6923\",\"type\":\"UnionRenderers\"}},\"id\":\"6580\",\"type\":\"ColumnDataSource\"},{\"attributes\":{\"source\":{\"id\":\"6580\",\"type\":\"ColumnDataSource\"}},\"id\":\"6584\",\"type\":\"CDSView\"},{\"attributes\":{\"days\":[1,2,3,4,5,6,7,8,9,10,11,12,13,14,15,16,17,18,19,20,21,22,23,24,25,26,27,28,29,30,31]},\"id\":\"6913\",\"type\":\"DaysTicker\"},{\"attributes\":{},\"id\":\"6922\",\"type\":\"Selection\"},{\"attributes\":{\"axis_label\":\"Value\",\"formatter\":{\"id\":\"6908\",\"type\":\"BasicTickFormatter\"},\"plot\":{\"id\":\"6545\",\"subtype\":\"Figure\",\"type\":\"Plot\"},\"ticker\":{\"id\":\"6561\",\"type\":\"BasicTicker\"}},\"id\":\"6560\",\"type\":\"LinearAxis\"},{\"attributes\":{\"callback\":null},\"id\":\"6547\",\"type\":\"DataRange1d\"},{\"attributes\":{\"months\":[0,6]},\"id\":\"6920\",\"type\":\"MonthsTicker\"},{\"attributes\":{\"plot\":null,\"text\":\"PMDI\"},\"id\":\"6544\",\"type\":\"Title\"},{\"attributes\":{},\"id\":\"6570\",\"type\":\"HelpTool\"},{\"attributes\":{},\"id\":\"6906\",\"type\":\"DatetimeTickFormatter\"},{\"attributes\":{},\"id\":\"6923\",\"type\":\"UnionRenderers\"},{\"attributes\":{\"months\":[0,2,4,6,8,10]},\"id\":\"6918\",\"type\":\"MonthsTicker\"},{\"attributes\":{\"line_color\":\"#1f77b4\",\"x\":{\"field\":\"x\"},\"y\":{\"field\":\"y\"}},\"id\":\"6581\",\"type\":\"Line\"},{\"attributes\":{},\"id\":\"6568\",\"type\":\"SaveTool\"},{\"attributes\":{\"days\":[1,8,15,22]},\"id\":\"6915\",\"type\":\"DaysTicker\"},{\"attributes\":{\"mantissas\":[1,2,5],\"max_interval\":500.0,\"num_minor_ticks\":0},\"id\":\"6910\",\"type\":\"AdaptiveTicker\"},{\"attributes\":{\"line_alpha\":0.1,\"line_color\":\"#1f77b4\",\"x\":{\"field\":\"x\"},\"y\":{\"field\":\"y\"}},\"id\":\"6582\",\"type\":\"Line\"},{\"attributes\":{},\"id\":\"6553\",\"type\":\"LinearScale\"},{\"attributes\":{\"dimension\":1,\"grid_line_alpha\":{\"value\":0.5},\"plot\":{\"id\":\"6545\",\"subtype\":\"Figure\",\"type\":\"Plot\"},\"ticker\":{\"id\":\"6561\",\"type\":\"BasicTicker\"}},\"id\":\"6564\",\"type\":\"Grid\"},{\"attributes\":{},\"id\":\"6561\",\"type\":\"BasicTicker\"},{\"attributes\":{},\"id\":\"6921\",\"type\":\"YearsTicker\"},{\"attributes\":{\"overlay\":{\"id\":\"6573\",\"type\":\"BoxAnnotation\"}},\"id\":\"6567\",\"type\":\"BoxZoomTool\"},{\"attributes\":{\"axis_label\":\"Time\",\"formatter\":{\"id\":\"6906\",\"type\":\"DatetimeTickFormatter\"},\"plot\":{\"id\":\"6545\",\"subtype\":\"Figure\",\"type\":\"Plot\"},\"ticker\":{\"id\":\"6556\",\"type\":\"DatetimeTicker\"}},\"id\":\"6555\",\"type\":\"DatetimeAxis\"},{\"attributes\":{\"active_drag\":\"auto\",\"active_inspect\":\"auto\",\"active_multi\":null,\"active_scroll\":\"auto\",\"active_tap\":\"auto\",\"tools\":[{\"id\":\"6565\",\"type\":\"PanTool\"},{\"id\":\"6566\",\"type\":\"WheelZoomTool\"},{\"id\":\"6567\",\"type\":\"BoxZoomTool\"},{\"id\":\"6568\",\"type\":\"SaveTool\"},{\"id\":\"6569\",\"type\":\"ResetTool\"},{\"id\":\"6570\",\"type\":\"HelpTool\"}]},\"id\":\"6571\",\"type\":\"Toolbar\"},{\"attributes\":{\"days\":[1,15]},\"id\":\"6916\",\"type\":\"DaysTicker\"},{\"attributes\":{\"num_minor_ticks\":5,\"tickers\":[{\"id\":\"6910\",\"type\":\"AdaptiveTicker\"},{\"id\":\"6911\",\"type\":\"AdaptiveTicker\"},{\"id\":\"6912\",\"type\":\"AdaptiveTicker\"},{\"id\":\"6913\",\"type\":\"DaysTicker\"},{\"id\":\"6914\",\"type\":\"DaysTicker\"},{\"id\":\"6915\",\"type\":\"DaysTicker\"},{\"id\":\"6916\",\"type\":\"DaysTicker\"},{\"id\":\"6917\",\"type\":\"MonthsTicker\"},{\"id\":\"6918\",\"type\":\"MonthsTicker\"},{\"id\":\"6919\",\"type\":\"MonthsTicker\"},{\"id\":\"6920\",\"type\":\"MonthsTicker\"},{\"id\":\"6921\",\"type\":\"YearsTicker\"}]},\"id\":\"6556\",\"type\":\"DatetimeTicker\"},{\"attributes\":{\"months\":[0,1,2,3,4,5,6,7,8,9,10,11]},\"id\":\"6917\",\"type\":\"MonthsTicker\"},{\"attributes\":{\"months\":[0,4,8]},\"id\":\"6919\",\"type\":\"MonthsTicker\"},{\"attributes\":{},\"id\":\"6551\",\"type\":\"LinearScale\"},{\"attributes\":{\"base\":24,\"mantissas\":[1,2,4,6,8,12],\"max_interval\":43200000.0,\"min_interval\":3600000.0,\"num_minor_ticks\":0},\"id\":\"6912\",\"type\":\"AdaptiveTicker\"},{\"attributes\":{},\"id\":\"6569\",\"type\":\"ResetTool\"},{\"attributes\":{\"days\":[1,4,7,10,13,16,19,22,25,28]},\"id\":\"6914\",\"type\":\"DaysTicker\"},{\"attributes\":{\"grid_line_color\":{\"value\":null},\"plot\":{\"id\":\"6545\",\"subtype\":\"Figure\",\"type\":\"Plot\"},\"ticker\":{\"id\":\"6556\",\"type\":\"DatetimeTicker\"}},\"id\":\"6559\",\"type\":\"Grid\"},{\"attributes\":{},\"id\":\"6908\",\"type\":\"BasicTickFormatter\"},{\"attributes\":{\"base\":60,\"mantissas\":[1,2,5,10,15,20,30],\"max_interval\":1800000.0,\"min_interval\":1000.0,\"num_minor_ticks\":0},\"id\":\"6911\",\"type\":\"AdaptiveTicker\"},{\"attributes\":{\"bottom_units\":\"screen\",\"fill_alpha\":{\"value\":0.5},\"fill_color\":{\"value\":\"lightgrey\"},\"left_units\":\"screen\",\"level\":\"overlay\",\"line_alpha\":{\"value\":1.0},\"line_color\":{\"value\":\"black\"},\"line_dash\":[4,4],\"line_width\":{\"value\":2},\"plot\":null,\"render_mode\":\"css\",\"right_units\":\"screen\",\"top_units\":\"screen\"},\"id\":\"6573\",\"type\":\"BoxAnnotation\"},{\"attributes\":{},\"id\":\"6566\",\"type\":\"WheelZoomTool\"},{\"attributes\":{\"callback\":null},\"id\":\"6549\",\"type\":\"DataRange1d\"},{\"attributes\":{\"data_source\":{\"id\":\"6580\",\"type\":\"ColumnDataSource\"},\"glyph\":{\"id\":\"6581\",\"type\":\"Line\"},\"hover_glyph\":null,\"muted_glyph\":null,\"nonselection_glyph\":{\"id\":\"6582\",\"type\":\"Line\"},\"selection_glyph\":null,\"view\":{\"id\":\"6584\",\"type\":\"CDSView\"}},\"id\":\"6583\",\"type\":\"GlyphRenderer\"},{\"attributes\":{},\"id\":\"6565\",\"type\":\"PanTool\"}],\"root_ids\":[\"6545\"]},\"title\":\"Bokeh Application\",\"version\":\"1.0.4\"}};\n",
       "  var render_items = [{\"docid\":\"948d0a35-865b-41cc-993e-cdfb5ad5dd1b\",\"roots\":{\"6545\":\"351b56c8-9748-4972-909d-04171cc2f452\"}}];\n",
       "  root.Bokeh.embed.embed_items_notebook(docs_json, render_items);\n",
       "\n",
       "  }\n",
       "  if (root.Bokeh !== undefined) {\n",
       "    embed_document(root);\n",
       "  } else {\n",
       "    var attempts = 0;\n",
       "    var timer = setInterval(function(root) {\n",
       "      if (root.Bokeh !== undefined) {\n",
       "        embed_document(root);\n",
       "        clearInterval(timer);\n",
       "      }\n",
       "      attempts++;\n",
       "      if (attempts > 100) {\n",
       "        console.log(\"Bokeh: ERROR: Unable to run BokehJS code because BokehJS library is missing\");\n",
       "        clearInterval(timer);\n",
       "      }\n",
       "    }, 10, root)\n",
       "  }\n",
       "})(window);"
      ],
      "application/vnd.bokehjs_exec.v0+json": ""
     },
     "metadata": {
      "application/vnd.bokehjs_exec.v0+json": {
       "id": "6545"
      }
     },
     "output_type": "display_data"
    },
    {
     "data": {
      "text/html": [
       "\n",
       "\n",
       "\n",
       "\n",
       "\n",
       "\n",
       "  <div class=\"bk-root\" id=\"83864213-a091-4f9a-8b29-f0973a9ec0ed\" data-root-id=\"7046\"></div>\n"
      ]
     },
     "metadata": {},
     "output_type": "display_data"
    },
    {
     "data": {
      "application/javascript": [
       "(function(root) {\n",
       "  function embed_document(root) {\n",
       "    \n",
       "  var docs_json = {\"b1926b95-4b00-4e1c-bedc-63903ea9379e\":{\"roots\":{\"references\":[{\"attributes\":{\"below\":[{\"id\":\"7056\",\"type\":\"DatetimeAxis\"}],\"left\":[{\"id\":\"7061\",\"type\":\"LinearAxis\"}],\"plot_height\":350,\"plot_width\":800,\"renderers\":[{\"id\":\"7056\",\"type\":\"DatetimeAxis\"},{\"id\":\"7060\",\"type\":\"Grid\"},{\"id\":\"7061\",\"type\":\"LinearAxis\"},{\"id\":\"7065\",\"type\":\"Grid\"},{\"id\":\"7074\",\"type\":\"BoxAnnotation\"},{\"id\":\"7084\",\"type\":\"GlyphRenderer\"}],\"title\":{\"id\":\"7045\",\"type\":\"Title\"},\"toolbar\":{\"id\":\"7072\",\"type\":\"Toolbar\"},\"x_range\":{\"id\":\"7048\",\"type\":\"DataRange1d\"},\"x_scale\":{\"id\":\"7052\",\"type\":\"LinearScale\"},\"y_range\":{\"id\":\"7050\",\"type\":\"DataRange1d\"},\"y_scale\":{\"id\":\"7054\",\"type\":\"LinearScale\"}},\"id\":\"7046\",\"subtype\":\"Figure\",\"type\":\"Plot\"},{\"attributes\":{},\"id\":\"7067\",\"type\":\"WheelZoomTool\"},{\"attributes\":{\"dimension\":1,\"grid_line_alpha\":{\"value\":0.5},\"plot\":{\"id\":\"7046\",\"subtype\":\"Figure\",\"type\":\"Plot\"},\"ticker\":{\"id\":\"7062\",\"type\":\"BasicTicker\"}},\"id\":\"7065\",\"type\":\"Grid\"},{\"attributes\":{\"plot\":null,\"text\":\"Z-Index\"},\"id\":\"7045\",\"type\":\"Title\"},{\"attributes\":{\"line_alpha\":0.1,\"line_color\":\"#1f77b4\",\"x\":{\"field\":\"x\"},\"y\":{\"field\":\"y\"}},\"id\":\"7083\",\"type\":\"Line\"},{\"attributes\":{\"num_minor_ticks\":5,\"tickers\":[{\"id\":\"7431\",\"type\":\"AdaptiveTicker\"},{\"id\":\"7432\",\"type\":\"AdaptiveTicker\"},{\"id\":\"7433\",\"type\":\"AdaptiveTicker\"},{\"id\":\"7434\",\"type\":\"DaysTicker\"},{\"id\":\"7435\",\"type\":\"DaysTicker\"},{\"id\":\"7436\",\"type\":\"DaysTicker\"},{\"id\":\"7437\",\"type\":\"DaysTicker\"},{\"id\":\"7438\",\"type\":\"MonthsTicker\"},{\"id\":\"7439\",\"type\":\"MonthsTicker\"},{\"id\":\"7440\",\"type\":\"MonthsTicker\"},{\"id\":\"7441\",\"type\":\"MonthsTicker\"},{\"id\":\"7442\",\"type\":\"YearsTicker\"}]},\"id\":\"7057\",\"type\":\"DatetimeTicker\"},{\"attributes\":{},\"id\":\"7427\",\"type\":\"DatetimeTickFormatter\"},{\"attributes\":{\"overlay\":{\"id\":\"7074\",\"type\":\"BoxAnnotation\"}},\"id\":\"7068\",\"type\":\"BoxZoomTool\"},{\"attributes\":{\"source\":{\"id\":\"7081\",\"type\":\"ColumnDataSource\"}},\"id\":\"7085\",\"type\":\"CDSView\"},{\"attributes\":{},\"id\":\"7062\",\"type\":\"BasicTicker\"},{\"attributes\":{},\"id\":\"7444\",\"type\":\"UnionRenderers\"},{\"attributes\":{},\"id\":\"7052\",\"type\":\"LinearScale\"},{\"attributes\":{\"data_source\":{\"id\":\"7081\",\"type\":\"ColumnDataSource\"},\"glyph\":{\"id\":\"7082\",\"type\":\"Line\"},\"hover_glyph\":null,\"muted_glyph\":null,\"nonselection_glyph\":{\"id\":\"7083\",\"type\":\"Line\"},\"selection_glyph\":null,\"view\":{\"id\":\"7085\",\"type\":\"CDSView\"}},\"id\":\"7084\",\"type\":\"GlyphRenderer\"},{\"attributes\":{},\"id\":\"7071\",\"type\":\"HelpTool\"},{\"attributes\":{\"callback\":null},\"id\":\"7048\",\"type\":\"DataRange1d\"},{\"attributes\":{},\"id\":\"7069\",\"type\":\"SaveTool\"},{\"attributes\":{\"days\":[1,8,15,22]},\"id\":\"7436\",\"type\":\"DaysTicker\"},{\"attributes\":{\"bottom_units\":\"screen\",\"fill_alpha\":{\"value\":0.5},\"fill_color\":{\"value\":\"lightgrey\"},\"left_units\":\"screen\",\"level\":\"overlay\",\"line_alpha\":{\"value\":1.0},\"line_color\":{\"value\":\"black\"},\"line_dash\":[4,4],\"line_width\":{\"value\":2},\"plot\":null,\"render_mode\":\"css\",\"right_units\":\"screen\",\"top_units\":\"screen\"},\"id\":\"7074\",\"type\":\"BoxAnnotation\"},{\"attributes\":{\"grid_line_color\":{\"value\":null},\"plot\":{\"id\":\"7046\",\"subtype\":\"Figure\",\"type\":\"Plot\"},\"ticker\":{\"id\":\"7057\",\"type\":\"DatetimeTicker\"}},\"id\":\"7060\",\"type\":\"Grid\"},{\"attributes\":{},\"id\":\"7429\",\"type\":\"BasicTickFormatter\"},{\"attributes\":{\"months\":[0,6]},\"id\":\"7441\",\"type\":\"MonthsTicker\"},{\"attributes\":{\"callback\":null,\"data\":{\"x\":{\"__ndarray__\":\"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\",\"dtype\":\"float64\",\"shape\":[830]},\"y\":{\"__ndarray__\":\"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\",\"dtype\":\"float64\",\"shape\":[830]}},\"selected\":{\"id\":\"7443\",\"type\":\"Selection\"},\"selection_policy\":{\"id\":\"7444\",\"type\":\"UnionRenderers\"}},\"id\":\"7081\",\"type\":\"ColumnDataSource\"},{\"attributes\":{},\"id\":\"7443\",\"type\":\"Selection\"},{\"attributes\":{\"months\":[0,2,4,6,8,10]},\"id\":\"7439\",\"type\":\"MonthsTicker\"},{\"attributes\":{},\"id\":\"7066\",\"type\":\"PanTool\"},{\"attributes\":{\"active_drag\":\"auto\",\"active_inspect\":\"auto\",\"active_multi\":null,\"active_scroll\":\"auto\",\"active_tap\":\"auto\",\"tools\":[{\"id\":\"7066\",\"type\":\"PanTool\"},{\"id\":\"7067\",\"type\":\"WheelZoomTool\"},{\"id\":\"7068\",\"type\":\"BoxZoomTool\"},{\"id\":\"7069\",\"type\":\"SaveTool\"},{\"id\":\"7070\",\"type\":\"ResetTool\"},{\"id\":\"7071\",\"type\":\"HelpTool\"}]},\"id\":\"7072\",\"type\":\"Toolbar\"},{\"attributes\":{\"base\":60,\"mantissas\":[1,2,5,10,15,20,30],\"max_interval\":1800000.0,\"min_interval\":1000.0,\"num_minor_ticks\":0},\"id\":\"7432\",\"type\":\"AdaptiveTicker\"},{\"attributes\":{},\"id\":\"7070\",\"type\":\"ResetTool\"},{\"attributes\":{\"axis_label\":\"Value\",\"formatter\":{\"id\":\"7429\",\"type\":\"BasicTickFormatter\"},\"plot\":{\"id\":\"7046\",\"subtype\":\"Figure\",\"type\":\"Plot\"},\"ticker\":{\"id\":\"7062\",\"type\":\"BasicTicker\"}},\"id\":\"7061\",\"type\":\"LinearAxis\"},{\"attributes\":{\"days\":[1,4,7,10,13,16,19,22,25,28]},\"id\":\"7435\",\"type\":\"DaysTicker\"},{\"attributes\":{\"callback\":null},\"id\":\"7050\",\"type\":\"DataRange1d\"},{\"attributes\":{\"line_color\":\"#1f77b4\",\"x\":{\"field\":\"x\"},\"y\":{\"field\":\"y\"}},\"id\":\"7082\",\"type\":\"Line\"},{\"attributes\":{},\"id\":\"7442\",\"type\":\"YearsTicker\"},{\"attributes\":{\"months\":[0,1,2,3,4,5,6,7,8,9,10,11]},\"id\":\"7438\",\"type\":\"MonthsTicker\"},{\"attributes\":{\"base\":24,\"mantissas\":[1,2,4,6,8,12],\"max_interval\":43200000.0,\"min_interval\":3600000.0,\"num_minor_ticks\":0},\"id\":\"7433\",\"type\":\"AdaptiveTicker\"},{\"attributes\":{\"months\":[0,4,8]},\"id\":\"7440\",\"type\":\"MonthsTicker\"},{\"attributes\":{\"axis_label\":\"Time\",\"formatter\":{\"id\":\"7427\",\"type\":\"DatetimeTickFormatter\"},\"plot\":{\"id\":\"7046\",\"subtype\":\"Figure\",\"type\":\"Plot\"},\"ticker\":{\"id\":\"7057\",\"type\":\"DatetimeTicker\"}},\"id\":\"7056\",\"type\":\"DatetimeAxis\"},{\"attributes\":{\"mantissas\":[1,2,5],\"max_interval\":500.0,\"num_minor_ticks\":0},\"id\":\"7431\",\"type\":\"AdaptiveTicker\"},{\"attributes\":{\"days\":[1,15]},\"id\":\"7437\",\"type\":\"DaysTicker\"},{\"attributes\":{\"days\":[1,2,3,4,5,6,7,8,9,10,11,12,13,14,15,16,17,18,19,20,21,22,23,24,25,26,27,28,29,30,31]},\"id\":\"7434\",\"type\":\"DaysTicker\"},{\"attributes\":{},\"id\":\"7054\",\"type\":\"LinearScale\"}],\"root_ids\":[\"7046\"]},\"title\":\"Bokeh Application\",\"version\":\"1.0.4\"}};\n",
       "  var render_items = [{\"docid\":\"b1926b95-4b00-4e1c-bedc-63903ea9379e\",\"roots\":{\"7046\":\"83864213-a091-4f9a-8b29-f0973a9ec0ed\"}}];\n",
       "  root.Bokeh.embed.embed_items_notebook(docs_json, render_items);\n",
       "\n",
       "  }\n",
       "  if (root.Bokeh !== undefined) {\n",
       "    embed_document(root);\n",
       "  } else {\n",
       "    var attempts = 0;\n",
       "    var timer = setInterval(function(root) {\n",
       "      if (root.Bokeh !== undefined) {\n",
       "        embed_document(root);\n",
       "        clearInterval(timer);\n",
       "      }\n",
       "      attempts++;\n",
       "      if (attempts > 100) {\n",
       "        console.log(\"Bokeh: ERROR: Unable to run BokehJS code because BokehJS library is missing\");\n",
       "        clearInterval(timer);\n",
       "      }\n",
       "    }, 10, root)\n",
       "  }\n",
       "})(window);"
      ],
      "application/vnd.bokehjs_exec.v0+json": ""
     },
     "metadata": {
      "application/vnd.bokehjs_exec.v0+json": {
       "id": "7046"
      }
     },
     "output_type": "display_data"
    }
   ],
   "source": [
    "bokeh.io.output_notebook()\n",
    "titles_to_data = {\"Self-calibrated PDSI\": df[\"scpdsi\"],\n",
    "                  \"Traditional PDSI\": df[\"pdsi\"],\n",
    "                  \"(Self-calibrated - Traditional) PDSI Difference\": df[\"scpdsi\"] - df[\"pdsi\"],\n",
    "                  \"PHDI\": df[\"phdi\"],\n",
    "                  \"PMDI\": df[\"pmdi\"],\n",
    "                  \"Z-Index\": df[\"zindex\"],}\n",
    "for title, data in titles_to_data.items():\n",
    "    p = figure(x_axis_type=\"datetime\", title=title, plot_height=350, plot_width=800)\n",
    "    p.xgrid.grid_line_color=None\n",
    "    p.ygrid.grid_line_alpha=0.5\n",
    "    p.xaxis.axis_label = 'Time'\n",
    "    p.yaxis.axis_label = 'Value'\n",
    "    p.line(df.index, data)\n",
    "    show(p)"
   ]
  },
  {
   "cell_type": "code",
   "execution_count": null,
   "metadata": {},
   "outputs": [],
   "source": []
  }
 ],
 "metadata": {
  "kernelspec": {
   "display_name": "Python 3",
   "language": "python",
   "name": "python3"
  },
  "language_info": {
   "codemirror_mode": {
    "name": "ipython",
    "version": 3
   },
   "file_extension": ".py",
   "mimetype": "text/x-python",
   "name": "python",
   "nbconvert_exporter": "python",
   "pygments_lexer": "ipython3",
   "version": "3.7.2"
  }
 },
 "nbformat": 4,
 "nbformat_minor": 2
}
